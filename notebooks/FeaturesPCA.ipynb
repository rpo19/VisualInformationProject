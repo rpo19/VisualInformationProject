{
 "cells": [
  {
   "cell_type": "code",
   "execution_count": 1,
   "metadata": {},
   "outputs": [],
   "source": [
    "import pandas as pd\n",
    "import numpy as np\n",
    "import pickle\n",
    "from sklearn.decomposition import PCA\n",
    "from sklearn.preprocessing import StandardScaler"
   ]
  },
  {
   "cell_type": "markdown",
   "metadata": {},
   "source": [
    "# Color"
   ]
  },
  {
   "cell_type": "code",
   "execution_count": null,
   "metadata": {},
   "outputs": [],
   "source": [
    "# read color features\n",
    "color_features = pd.read_csv('../data/color_features.csv', sep=',', header=None)"
   ]
  },
  {
   "cell_type": "code",
   "execution_count": null,
   "metadata": {},
   "outputs": [],
   "source": [
    "color_features"
   ]
  },
  {
   "cell_type": "code",
   "execution_count": null,
   "metadata": {},
   "outputs": [],
   "source": [
    "# create pca\n",
    "pca_color = PCA(0.95)\n",
    "# fit pca\n",
    "pca_color.fit(color_features)"
   ]
  },
  {
   "cell_type": "code",
   "execution_count": null,
   "metadata": {},
   "outputs": [],
   "source": [
    "# save pca model\n",
    "with open('../data/pca_color.pckl', 'wb') as handle:\n",
    "                    pickle.dump(pca_color, handle, protocol=pickle.HIGHEST_PROTOCOL)"
   ]
  },
  {
   "cell_type": "code",
   "execution_count": null,
   "metadata": {
    "scrolled": true
   },
   "outputs": [],
   "source": [
    "# transform features\n",
    "color_features_pca = pca_color.transform(color_features)\n",
    "print('dimension', color_features_pca.shape)"
   ]
  },
  {
   "cell_type": "code",
   "execution_count": null,
   "metadata": {},
   "outputs": [],
   "source": [
    "# save new features\n",
    "np.savetxt('../data/color_features_pca.csv', color_features_pca, delimiter=',')"
   ]
  },
  {
   "cell_type": "markdown",
   "metadata": {},
   "source": [
    "# Color center subregions"
   ]
  },
  {
   "cell_type": "code",
   "execution_count": 15,
   "metadata": {},
   "outputs": [],
   "source": [
    "# read color features\n",
    "color_features = pd.read_csv('../data/color_features_center_subregions.csv', sep=',', header=None)"
   ]
  },
  {
   "cell_type": "code",
   "execution_count": 16,
   "metadata": {},
   "outputs": [
    {
     "data": {
      "text/html": [
       "<div>\n",
       "<style scoped>\n",
       "    .dataframe tbody tr th:only-of-type {\n",
       "        vertical-align: middle;\n",
       "    }\n",
       "\n",
       "    .dataframe tbody tr th {\n",
       "        vertical-align: top;\n",
       "    }\n",
       "\n",
       "    .dataframe thead th {\n",
       "        text-align: right;\n",
       "    }\n",
       "</style>\n",
       "<table border=\"1\" class=\"dataframe\">\n",
       "  <thead>\n",
       "    <tr style=\"text-align: right;\">\n",
       "      <th></th>\n",
       "      <th>0</th>\n",
       "      <th>1</th>\n",
       "      <th>2</th>\n",
       "      <th>3</th>\n",
       "      <th>4</th>\n",
       "      <th>5</th>\n",
       "      <th>6</th>\n",
       "      <th>7</th>\n",
       "      <th>8</th>\n",
       "      <th>9</th>\n",
       "      <th>...</th>\n",
       "      <th>2294</th>\n",
       "      <th>2295</th>\n",
       "      <th>2296</th>\n",
       "      <th>2297</th>\n",
       "      <th>2298</th>\n",
       "      <th>2299</th>\n",
       "      <th>2300</th>\n",
       "      <th>2301</th>\n",
       "      <th>2302</th>\n",
       "      <th>2303</th>\n",
       "    </tr>\n",
       "  </thead>\n",
       "  <tbody>\n",
       "    <tr>\n",
       "      <th>0</th>\n",
       "      <td>0.038808</td>\n",
       "      <td>0.047181</td>\n",
       "      <td>0.000000</td>\n",
       "      <td>0.000000</td>\n",
       "      <td>0.000000</td>\n",
       "      <td>0.000000</td>\n",
       "      <td>0.000000</td>\n",
       "      <td>0.000000</td>\n",
       "      <td>0.000000</td>\n",
       "      <td>0.000000</td>\n",
       "      <td>...</td>\n",
       "      <td>0.000000</td>\n",
       "      <td>0.000000</td>\n",
       "      <td>0.000000</td>\n",
       "      <td>0.0</td>\n",
       "      <td>0.000000</td>\n",
       "      <td>0.0</td>\n",
       "      <td>0.000000</td>\n",
       "      <td>0.0</td>\n",
       "      <td>0.000000</td>\n",
       "      <td>0.0</td>\n",
       "    </tr>\n",
       "    <tr>\n",
       "      <th>1</th>\n",
       "      <td>0.024965</td>\n",
       "      <td>0.001934</td>\n",
       "      <td>0.004923</td>\n",
       "      <td>0.012483</td>\n",
       "      <td>0.007560</td>\n",
       "      <td>0.036921</td>\n",
       "      <td>0.010021</td>\n",
       "      <td>0.166846</td>\n",
       "      <td>0.022504</td>\n",
       "      <td>0.483661</td>\n",
       "      <td>...</td>\n",
       "      <td>0.000000</td>\n",
       "      <td>0.000452</td>\n",
       "      <td>0.000000</td>\n",
       "      <td>0.0</td>\n",
       "      <td>0.000000</td>\n",
       "      <td>0.0</td>\n",
       "      <td>0.000000</td>\n",
       "      <td>0.0</td>\n",
       "      <td>0.000000</td>\n",
       "      <td>0.0</td>\n",
       "    </tr>\n",
       "    <tr>\n",
       "      <th>2</th>\n",
       "      <td>0.043233</td>\n",
       "      <td>0.017104</td>\n",
       "      <td>0.018594</td>\n",
       "      <td>0.009483</td>\n",
       "      <td>0.001862</td>\n",
       "      <td>0.000000</td>\n",
       "      <td>0.000000</td>\n",
       "      <td>0.000000</td>\n",
       "      <td>0.000000</td>\n",
       "      <td>0.000000</td>\n",
       "      <td>...</td>\n",
       "      <td>0.000060</td>\n",
       "      <td>0.000000</td>\n",
       "      <td>0.000030</td>\n",
       "      <td>0.0</td>\n",
       "      <td>0.000000</td>\n",
       "      <td>0.0</td>\n",
       "      <td>0.000060</td>\n",
       "      <td>0.0</td>\n",
       "      <td>0.000030</td>\n",
       "      <td>0.0</td>\n",
       "    </tr>\n",
       "    <tr>\n",
       "      <th>3</th>\n",
       "      <td>0.006010</td>\n",
       "      <td>0.000000</td>\n",
       "      <td>0.117616</td>\n",
       "      <td>0.000925</td>\n",
       "      <td>0.303287</td>\n",
       "      <td>0.000832</td>\n",
       "      <td>0.069303</td>\n",
       "      <td>0.000277</td>\n",
       "      <td>0.029959</td>\n",
       "      <td>0.000185</td>\n",
       "      <td>...</td>\n",
       "      <td>0.000000</td>\n",
       "      <td>0.000000</td>\n",
       "      <td>0.000000</td>\n",
       "      <td>0.0</td>\n",
       "      <td>0.000000</td>\n",
       "      <td>0.0</td>\n",
       "      <td>0.000000</td>\n",
       "      <td>0.0</td>\n",
       "      <td>0.000000</td>\n",
       "      <td>0.0</td>\n",
       "    </tr>\n",
       "    <tr>\n",
       "      <th>4</th>\n",
       "      <td>0.022413</td>\n",
       "      <td>0.932369</td>\n",
       "      <td>0.007973</td>\n",
       "      <td>0.000139</td>\n",
       "      <td>0.001450</td>\n",
       "      <td>0.000000</td>\n",
       "      <td>0.000502</td>\n",
       "      <td>0.000000</td>\n",
       "      <td>0.000251</td>\n",
       "      <td>0.000000</td>\n",
       "      <td>...</td>\n",
       "      <td>0.000000</td>\n",
       "      <td>0.000000</td>\n",
       "      <td>0.000000</td>\n",
       "      <td>0.0</td>\n",
       "      <td>0.000000</td>\n",
       "      <td>0.0</td>\n",
       "      <td>0.000000</td>\n",
       "      <td>0.0</td>\n",
       "      <td>0.000000</td>\n",
       "      <td>0.0</td>\n",
       "    </tr>\n",
       "    <tr>\n",
       "      <th>...</th>\n",
       "      <td>...</td>\n",
       "      <td>...</td>\n",
       "      <td>...</td>\n",
       "      <td>...</td>\n",
       "      <td>...</td>\n",
       "      <td>...</td>\n",
       "      <td>...</td>\n",
       "      <td>...</td>\n",
       "      <td>...</td>\n",
       "      <td>...</td>\n",
       "      <td>...</td>\n",
       "      <td>...</td>\n",
       "      <td>...</td>\n",
       "      <td>...</td>\n",
       "      <td>...</td>\n",
       "      <td>...</td>\n",
       "      <td>...</td>\n",
       "      <td>...</td>\n",
       "      <td>...</td>\n",
       "      <td>...</td>\n",
       "      <td>...</td>\n",
       "    </tr>\n",
       "    <tr>\n",
       "      <th>31320</th>\n",
       "      <td>0.000000</td>\n",
       "      <td>0.000000</td>\n",
       "      <td>0.000000</td>\n",
       "      <td>0.000000</td>\n",
       "      <td>0.000166</td>\n",
       "      <td>0.000166</td>\n",
       "      <td>0.023039</td>\n",
       "      <td>0.008619</td>\n",
       "      <td>0.162932</td>\n",
       "      <td>0.016078</td>\n",
       "      <td>...</td>\n",
       "      <td>0.000096</td>\n",
       "      <td>0.000000</td>\n",
       "      <td>0.000096</td>\n",
       "      <td>0.0</td>\n",
       "      <td>0.000096</td>\n",
       "      <td>0.0</td>\n",
       "      <td>0.000096</td>\n",
       "      <td>0.0</td>\n",
       "      <td>0.000385</td>\n",
       "      <td>0.0</td>\n",
       "    </tr>\n",
       "    <tr>\n",
       "      <th>31321</th>\n",
       "      <td>0.000000</td>\n",
       "      <td>0.000000</td>\n",
       "      <td>0.000000</td>\n",
       "      <td>0.000000</td>\n",
       "      <td>0.000166</td>\n",
       "      <td>0.000166</td>\n",
       "      <td>0.023039</td>\n",
       "      <td>0.008619</td>\n",
       "      <td>0.162932</td>\n",
       "      <td>0.016078</td>\n",
       "      <td>...</td>\n",
       "      <td>0.000096</td>\n",
       "      <td>0.000000</td>\n",
       "      <td>0.000096</td>\n",
       "      <td>0.0</td>\n",
       "      <td>0.000096</td>\n",
       "      <td>0.0</td>\n",
       "      <td>0.000096</td>\n",
       "      <td>0.0</td>\n",
       "      <td>0.000385</td>\n",
       "      <td>0.0</td>\n",
       "    </tr>\n",
       "    <tr>\n",
       "      <th>31322</th>\n",
       "      <td>0.004838</td>\n",
       "      <td>0.853269</td>\n",
       "      <td>0.021746</td>\n",
       "      <td>0.002715</td>\n",
       "      <td>0.110062</td>\n",
       "      <td>0.000592</td>\n",
       "      <td>0.082886</td>\n",
       "      <td>0.000000</td>\n",
       "      <td>0.020117</td>\n",
       "      <td>0.000000</td>\n",
       "      <td>...</td>\n",
       "      <td>0.000000</td>\n",
       "      <td>0.000000</td>\n",
       "      <td>0.000000</td>\n",
       "      <td>0.0</td>\n",
       "      <td>0.000000</td>\n",
       "      <td>0.0</td>\n",
       "      <td>0.000000</td>\n",
       "      <td>0.0</td>\n",
       "      <td>0.000000</td>\n",
       "      <td>0.0</td>\n",
       "    </tr>\n",
       "    <tr>\n",
       "      <th>31323</th>\n",
       "      <td>0.032602</td>\n",
       "      <td>0.000462</td>\n",
       "      <td>0.013098</td>\n",
       "      <td>0.000577</td>\n",
       "      <td>0.020427</td>\n",
       "      <td>0.000000</td>\n",
       "      <td>0.020657</td>\n",
       "      <td>0.002250</td>\n",
       "      <td>0.015176</td>\n",
       "      <td>0.000981</td>\n",
       "      <td>...</td>\n",
       "      <td>0.000000</td>\n",
       "      <td>0.000000</td>\n",
       "      <td>0.000000</td>\n",
       "      <td>0.0</td>\n",
       "      <td>0.000000</td>\n",
       "      <td>0.0</td>\n",
       "      <td>0.000000</td>\n",
       "      <td>0.0</td>\n",
       "      <td>0.000000</td>\n",
       "      <td>0.0</td>\n",
       "    </tr>\n",
       "    <tr>\n",
       "      <th>31324</th>\n",
       "      <td>0.018640</td>\n",
       "      <td>0.011210</td>\n",
       "      <td>0.135580</td>\n",
       "      <td>0.000079</td>\n",
       "      <td>0.218362</td>\n",
       "      <td>0.000000</td>\n",
       "      <td>0.184334</td>\n",
       "      <td>0.000000</td>\n",
       "      <td>0.255720</td>\n",
       "      <td>0.000000</td>\n",
       "      <td>...</td>\n",
       "      <td>0.000000</td>\n",
       "      <td>0.000000</td>\n",
       "      <td>0.000000</td>\n",
       "      <td>0.0</td>\n",
       "      <td>0.000000</td>\n",
       "      <td>0.0</td>\n",
       "      <td>0.000000</td>\n",
       "      <td>0.0</td>\n",
       "      <td>0.000000</td>\n",
       "      <td>0.0</td>\n",
       "    </tr>\n",
       "  </tbody>\n",
       "</table>\n",
       "<p>31325 rows × 2304 columns</p>\n",
       "</div>"
      ],
      "text/plain": [
       "           0         1         2         3         4         5         6     \\\n",
       "0      0.038808  0.047181  0.000000  0.000000  0.000000  0.000000  0.000000   \n",
       "1      0.024965  0.001934  0.004923  0.012483  0.007560  0.036921  0.010021   \n",
       "2      0.043233  0.017104  0.018594  0.009483  0.001862  0.000000  0.000000   \n",
       "3      0.006010  0.000000  0.117616  0.000925  0.303287  0.000832  0.069303   \n",
       "4      0.022413  0.932369  0.007973  0.000139  0.001450  0.000000  0.000502   \n",
       "...         ...       ...       ...       ...       ...       ...       ...   \n",
       "31320  0.000000  0.000000  0.000000  0.000000  0.000166  0.000166  0.023039   \n",
       "31321  0.000000  0.000000  0.000000  0.000000  0.000166  0.000166  0.023039   \n",
       "31322  0.004838  0.853269  0.021746  0.002715  0.110062  0.000592  0.082886   \n",
       "31323  0.032602  0.000462  0.013098  0.000577  0.020427  0.000000  0.020657   \n",
       "31324  0.018640  0.011210  0.135580  0.000079  0.218362  0.000000  0.184334   \n",
       "\n",
       "           7         8         9     ...      2294      2295      2296  2297  \\\n",
       "0      0.000000  0.000000  0.000000  ...  0.000000  0.000000  0.000000   0.0   \n",
       "1      0.166846  0.022504  0.483661  ...  0.000000  0.000452  0.000000   0.0   \n",
       "2      0.000000  0.000000  0.000000  ...  0.000060  0.000000  0.000030   0.0   \n",
       "3      0.000277  0.029959  0.000185  ...  0.000000  0.000000  0.000000   0.0   \n",
       "4      0.000000  0.000251  0.000000  ...  0.000000  0.000000  0.000000   0.0   \n",
       "...         ...       ...       ...  ...       ...       ...       ...   ...   \n",
       "31320  0.008619  0.162932  0.016078  ...  0.000096  0.000000  0.000096   0.0   \n",
       "31321  0.008619  0.162932  0.016078  ...  0.000096  0.000000  0.000096   0.0   \n",
       "31322  0.000000  0.020117  0.000000  ...  0.000000  0.000000  0.000000   0.0   \n",
       "31323  0.002250  0.015176  0.000981  ...  0.000000  0.000000  0.000000   0.0   \n",
       "31324  0.000000  0.255720  0.000000  ...  0.000000  0.000000  0.000000   0.0   \n",
       "\n",
       "           2298  2299      2300  2301      2302  2303  \n",
       "0      0.000000   0.0  0.000000   0.0  0.000000   0.0  \n",
       "1      0.000000   0.0  0.000000   0.0  0.000000   0.0  \n",
       "2      0.000000   0.0  0.000060   0.0  0.000030   0.0  \n",
       "3      0.000000   0.0  0.000000   0.0  0.000000   0.0  \n",
       "4      0.000000   0.0  0.000000   0.0  0.000000   0.0  \n",
       "...         ...   ...       ...   ...       ...   ...  \n",
       "31320  0.000096   0.0  0.000096   0.0  0.000385   0.0  \n",
       "31321  0.000096   0.0  0.000096   0.0  0.000385   0.0  \n",
       "31322  0.000000   0.0  0.000000   0.0  0.000000   0.0  \n",
       "31323  0.000000   0.0  0.000000   0.0  0.000000   0.0  \n",
       "31324  0.000000   0.0  0.000000   0.0  0.000000   0.0  \n",
       "\n",
       "[31325 rows x 2304 columns]"
      ]
     },
     "execution_count": 16,
     "metadata": {},
     "output_type": "execute_result"
    }
   ],
   "source": [
    "color_features"
   ]
  },
  {
   "cell_type": "code",
   "execution_count": 17,
   "metadata": {},
   "outputs": [
    {
     "data": {
      "text/plain": [
       "PCA(n_components=0.95)"
      ]
     },
     "execution_count": 17,
     "metadata": {},
     "output_type": "execute_result"
    }
   ],
   "source": [
    "# create pca\n",
    "pca_color = PCA(0.95)\n",
    "# fit pca\n",
    "pca_color.fit(color_features)"
   ]
  },
  {
   "cell_type": "code",
   "execution_count": 18,
   "metadata": {},
   "outputs": [],
   "source": [
    "# save pca model\n",
    "with open('../data/pca_color_center_subregions.pckl', 'wb') as handle:\n",
    "                    pickle.dump(pca_color, handle, protocol=pickle.HIGHEST_PROTOCOL)"
   ]
  },
  {
   "cell_type": "code",
   "execution_count": 19,
   "metadata": {
    "scrolled": true
   },
   "outputs": [
    {
     "name": "stdout",
     "output_type": "stream",
     "text": [
      "dimension (31325, 630)\n"
     ]
    }
   ],
   "source": [
    "# transform features\n",
    "color_features_pca = pca_color.transform(color_features)\n",
    "print('dimension', color_features_pca.shape)"
   ]
  },
  {
   "cell_type": "code",
   "execution_count": 20,
   "metadata": {},
   "outputs": [],
   "source": [
    "# save new features\n",
    "np.savetxt('../data/color_features_center_subregions_pca.csv', color_features_pca, delimiter=',')"
   ]
  },
  {
   "cell_type": "markdown",
   "metadata": {},
   "source": [
    "# HOG"
   ]
  },
  {
   "cell_type": "code",
   "execution_count": null,
   "metadata": {},
   "outputs": [],
   "source": [
    "# read hog features\n",
    "hog_features = pd.read_csv('../data/hog_features.csv', sep=',', header=None)"
   ]
  },
  {
   "cell_type": "code",
   "execution_count": null,
   "metadata": {},
   "outputs": [],
   "source": [
    "hog_features"
   ]
  },
  {
   "cell_type": "code",
   "execution_count": null,
   "metadata": {},
   "outputs": [],
   "source": [
    "# create pca\n",
    "pca_hog = PCA(0.95)\n",
    "# fit pca\n",
    "pca_hog.fit(hog_features)"
   ]
  },
  {
   "cell_type": "code",
   "execution_count": null,
   "metadata": {},
   "outputs": [],
   "source": [
    "# save pca model\n",
    "with open('../data/pca_hog.pckl', 'wb') as handle:\n",
    "                    pickle.dump(pca_hog, handle, protocol=pickle.HIGHEST_PROTOCOL)"
   ]
  },
  {
   "cell_type": "code",
   "execution_count": null,
   "metadata": {},
   "outputs": [],
   "source": [
    "# transform features\n",
    "hog_features_pca = pca_hog.transform(hog_features)\n",
    "print('dimension', hog_features_pca.shape)"
   ]
  },
  {
   "cell_type": "code",
   "execution_count": null,
   "metadata": {},
   "outputs": [],
   "source": [
    "# save new features\n",
    "np.savetxt('../data/hog_features_pca.csv', hog_features_pca, delimiter=',')"
   ]
  },
  {
   "cell_type": "markdown",
   "metadata": {},
   "source": [
    "# Neural Network"
   ]
  },
  {
   "cell_type": "code",
   "execution_count": null,
   "metadata": {},
   "outputs": [],
   "source": [
    "# read nn features\n",
    "nn_features = pd.read_csv('../data/nn_features.csv', sep=',', header=None)"
   ]
  },
  {
   "cell_type": "code",
   "execution_count": null,
   "metadata": {},
   "outputs": [],
   "source": [
    "nn_features"
   ]
  },
  {
   "cell_type": "code",
   "execution_count": null,
   "metadata": {},
   "outputs": [],
   "source": [
    "# create pca\n",
    "pca_nn = PCA(0.95)\n",
    "# fit pca\n",
    "pca_nn.fit(nn_features)"
   ]
  },
  {
   "cell_type": "code",
   "execution_count": null,
   "metadata": {},
   "outputs": [],
   "source": [
    "# save pca model\n",
    "with open('../data/pca_nn.pckl', 'wb') as handle:\n",
    "                    pickle.dump(pca_nn, handle, protocol=pickle.HIGHEST_PROTOCOL)"
   ]
  },
  {
   "cell_type": "code",
   "execution_count": null,
   "metadata": {},
   "outputs": [],
   "source": [
    "# transform features\n",
    "nn_features_pca = pca_nn.transform(nn_features)\n",
    "print('dimension', nn_features_pca.shape)"
   ]
  },
  {
   "cell_type": "code",
   "execution_count": null,
   "metadata": {},
   "outputs": [],
   "source": [
    "# save new features\n",
    "np.savetxt('../data/nn_features_pca.csv', nn_features_pca, delimiter=',')"
   ]
  },
  {
   "cell_type": "markdown",
   "metadata": {},
   "source": [
    "# HOG + Color"
   ]
  },
  {
   "cell_type": "code",
   "execution_count": 2,
   "metadata": {},
   "outputs": [],
   "source": [
    "### read HOG features\n",
    "hog_features = pd.read_csv('../data/HOG_features.csv', sep=',', header=None)"
   ]
  },
  {
   "cell_type": "code",
   "execution_count": 3,
   "metadata": {},
   "outputs": [
    {
     "name": "stdout",
     "output_type": "stream",
     "text": [
      "New dimension: 458\n"
     ]
    }
   ],
   "source": [
    "# create pca hog\n",
    "pca_hc_hog = PCA(0.80)\n",
    "# fit pca hog\n",
    "pca_hc_hog.fit(hog_features)\n",
    "print('New dimension:', pca_hc_hog.n_components_)"
   ]
  },
  {
   "cell_type": "code",
   "execution_count": 4,
   "metadata": {},
   "outputs": [],
   "source": [
    "# save pca hog model\n",
    "with open('../data/pca_hc_hog.pckl', 'wb') as handle:\n",
    "                    pickle.dump(pca_hc_hog, handle, protocol=pickle.HIGHEST_PROTOCOL)"
   ]
  },
  {
   "cell_type": "code",
   "execution_count": 5,
   "metadata": {},
   "outputs": [
    {
     "name": "stdout",
     "output_type": "stream",
     "text": [
      "dimension (31325, 458)\n"
     ]
    }
   ],
   "source": [
    "# transform features\n",
    "hog_features_pca = pca_hc_hog.transform(hog_features)\n",
    "print('dimension', hog_features_pca.shape)"
   ]
  },
  {
   "cell_type": "code",
   "execution_count": null,
   "metadata": {},
   "outputs": [],
   "source": []
  },
  {
   "cell_type": "code",
   "execution_count": 6,
   "metadata": {},
   "outputs": [],
   "source": [
    "### read color features\n",
    "color_features = pd.read_csv('../data/color_features.csv', sep=',', header=None)"
   ]
  },
  {
   "cell_type": "code",
   "execution_count": 7,
   "metadata": {},
   "outputs": [
    {
     "name": "stdout",
     "output_type": "stream",
     "text": [
      "New dimension: 641\n"
     ]
    }
   ],
   "source": [
    "# create pca color\n",
    "pca_hc_color = PCA(0.98)\n",
    "# fit pca color\n",
    "pca_hc_color.fit(color_features)\n",
    "print('New dimension:', pca_hc_color.n_components_)"
   ]
  },
  {
   "cell_type": "code",
   "execution_count": 8,
   "metadata": {},
   "outputs": [],
   "source": [
    "# save pca color model\n",
    "with open('../data/pca_hc_color.pckl', 'wb') as handle:\n",
    "                    pickle.dump(pca_hc_color, handle, protocol=pickle.HIGHEST_PROTOCOL)"
   ]
  },
  {
   "cell_type": "code",
   "execution_count": 9,
   "metadata": {},
   "outputs": [
    {
     "name": "stdout",
     "output_type": "stream",
     "text": [
      "dimension (31325, 641)\n"
     ]
    }
   ],
   "source": [
    "# transform features\n",
    "color_features_pca = pca_hc_color.transform(color_features)\n",
    "print('dimension', color_features_pca.shape)"
   ]
  },
  {
   "cell_type": "code",
   "execution_count": null,
   "metadata": {},
   "outputs": [],
   "source": []
  },
  {
   "cell_type": "code",
   "execution_count": 10,
   "metadata": {},
   "outputs": [
    {
     "name": "stdout",
     "output_type": "stream",
     "text": [
      "dimension (31325, 1099)\n"
     ]
    }
   ],
   "source": [
    "### merge features\n",
    "merged_features_pca = np.hstack([hog_features_pca, color_features_pca])\n",
    "print('dimension', merged_features_pca.shape)"
   ]
  },
  {
   "cell_type": "code",
   "execution_count": 11,
   "metadata": {},
   "outputs": [],
   "source": [
    "# save merged features\n",
    "np.savetxt('../data/hog_color_features_pca.csv', merged_features_pca, delimiter=',')"
   ]
  },
  {
   "cell_type": "code",
   "execution_count": null,
   "metadata": {},
   "outputs": [],
   "source": [
    "# # standardize data\n",
    "# scaler = StandardScaler()\n",
    "# scaler.fit(merged)"
   ]
  },
  {
   "cell_type": "code",
   "execution_count": null,
   "metadata": {},
   "outputs": [],
   "source": [
    "# # save scaler model\n",
    "# with open('../data/scaler_std.pckl', 'wb') as handle:\n",
    "#                     pickle.dump(scaler, handle, protocol=pickle.HIGHEST_PROTOCOL)"
   ]
  },
  {
   "cell_type": "code",
   "execution_count": null,
   "metadata": {},
   "outputs": [],
   "source": [
    "# merged = scaler.transform(merged)"
   ]
  },
  {
   "cell_type": "code",
   "execution_count": null,
   "metadata": {},
   "outputs": [],
   "source": [
    "# merged.shape"
   ]
  },
  {
   "cell_type": "code",
   "execution_count": null,
   "metadata": {},
   "outputs": [],
   "source": [
    "# pca = PCA(0.95)"
   ]
  },
  {
   "cell_type": "code",
   "execution_count": null,
   "metadata": {},
   "outputs": [],
   "source": [
    "# pca.fit(merged)"
   ]
  },
  {
   "cell_type": "code",
   "execution_count": null,
   "metadata": {},
   "outputs": [],
   "source": [
    "# # save pca model\n",
    "# with open('../data/pca_std.pckl', 'wb') as handle:\n",
    "#                     pickle.dump(pca, handle, protocol=pickle.HIGHEST_PROTOCOL)"
   ]
  },
  {
   "cell_type": "code",
   "execution_count": null,
   "metadata": {},
   "outputs": [],
   "source": [
    "# pca_merged = pca.transform(merged)"
   ]
  },
  {
   "cell_type": "code",
   "execution_count": null,
   "metadata": {},
   "outputs": [],
   "source": [
    "# pca_merged.shape"
   ]
  },
  {
   "cell_type": "code",
   "execution_count": null,
   "metadata": {},
   "outputs": [],
   "source": [
    "# np.savetxt('../data/merged_color_hog_pca_std.csv', pca_merged, delimiter=',')"
   ]
  }
 ],
 "metadata": {
  "kernelspec": {
   "display_name": "Python 3",
   "language": "python",
   "name": "python3"
  },
  "language_info": {
   "codemirror_mode": {
    "name": "ipython",
    "version": 3
   },
   "file_extension": ".py",
   "mimetype": "text/x-python",
   "name": "python",
   "nbconvert_exporter": "python",
   "pygments_lexer": "ipython3",
   "version": "3.8.6"
  }
 },
 "nbformat": 4,
 "nbformat_minor": 4
}
