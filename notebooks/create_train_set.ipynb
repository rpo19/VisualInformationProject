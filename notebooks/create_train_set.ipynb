{
 "cells": [
  {
   "cell_type": "code",
   "execution_count": null,
   "metadata": {},
   "outputs": [],
   "source": [
    "import pandas as pd\n",
    "import os\n",
    "from pathlib import Path\n",
    "from shutil import copyfile"
   ]
  },
  {
   "cell_type": "code",
   "execution_count": null,
   "metadata": {},
   "outputs": [],
   "source": [
    "df = pd.read_csv('../data/train.csv')"
   ]
  },
  {
   "cell_type": "markdown",
   "metadata": {},
   "source": [
    "### Elegant jackets"
   ]
  },
  {
   "cell_type": "code",
   "execution_count": null,
   "metadata": {},
   "outputs": [],
   "source": [
    "elegant_jackets = df[df['group'] == 11]\n",
    "elegant_jackets.drop(labels=['class', 'group'], inplace=True, axis=1)\n",
    "elegant_jackets['class'] = 'elegant_jacket'"
   ]
  },
  {
   "cell_type": "markdown",
   "metadata": {},
   "source": [
    "### High-heels shoes"
   ]
  },
  {
   "cell_type": "code",
   "execution_count": null,
   "metadata": {},
   "outputs": [],
   "source": [
    "high_heels_shoes = df[df['group'] == 50]\n",
    "high_heels_shoes.drop(labels=['class', 'group'], inplace=True, axis=1)\n",
    "high_heels_shoes['class'] = 'high_heels_shoe'"
   ]
  },
  {
   "cell_type": "markdown",
   "metadata": {},
   "source": [
    "### Shorts"
   ]
  },
  {
   "cell_type": "code",
   "execution_count": null,
   "metadata": {},
   "outputs": [],
   "source": [
    "shorts = df[df['group'] == 25].sample(300)\n",
    "shorts.drop(labels=['class', 'group'], inplace=True, axis=1)\n",
    "shorts['class'] = 'shorts'"
   ]
  },
  {
   "cell_type": "markdown",
   "metadata": {},
   "source": [
    "### T-shirts"
   ]
  },
  {
   "cell_type": "code",
   "execution_count": null,
   "metadata": {},
   "outputs": [],
   "source": [
    "t_shirts = df[df['group'].isin([10,21])]\n",
    "t_shirts.drop(labels=['class', 'group'], inplace=True, axis=1)\n",
    "t_shirts['class'] = 't_shirt'"
   ]
  },
  {
   "cell_type": "markdown",
   "metadata": {},
   "source": [
    "### Bags"
   ]
  },
  {
   "cell_type": "code",
   "execution_count": null,
   "metadata": {},
   "outputs": [],
   "source": [
    "bags = df[df['group'] == 51].sample(300)\n",
    "bags.drop(labels=['class', 'group'], inplace=True, axis=1)\n",
    "bags['class'] = 'bag'"
   ]
  },
  {
   "cell_type": "markdown",
   "metadata": {},
   "source": [
    "Save to csv"
   ]
  },
  {
   "cell_type": "code",
   "execution_count": null,
   "metadata": {},
   "outputs": [],
   "source": [
    "elegant_jackets.to_csv('elegant_jackets.csv', index=False)\n",
    "high_heels_shoes.to_csv('high_heels_shoes.csv', index=False)\n",
    "shorts.to_csv('shorts.csv', index=False)\n",
    "t_shirts.to_csv('t_shirts.csv', index=False)\n",
    "bags.to_csv('bags.csv', index=False)"
   ]
  },
  {
   "cell_type": "markdown",
   "metadata": {},
   "source": [
    "## Create folders"
   ]
  },
  {
   "cell_type": "code",
   "execution_count": null,
   "metadata": {},
   "outputs": [],
   "source": [
    "def createFolder(df, path_orig):\n",
    "    cls = df['class'].values[0]\n",
    "    path_to = './' + cls\n",
    "    Path(path_to).mkdir(parents=True, exist_ok=True)\n",
    "    \n",
    "    for fname in df['name'].values:\n",
    "        copyfile(path_orig + fname, path_to + '/' +fname)"
   ]
  },
  {
   "cell_type": "code",
   "execution_count": null,
   "metadata": {},
   "outputs": [],
   "source": [
    "path_orig = '../data/train/'\n",
    "dfs = [elegant_jackets, high_heels_shoes, shorts, t_shirts, bags]"
   ]
  },
  {
   "cell_type": "code",
   "execution_count": null,
   "metadata": {},
   "outputs": [],
   "source": [
    "for i in range(0,len(dfs)):\n",
    "    createFolder(dfs[i], path_orig)"
   ]
  }
 ],
 "metadata": {
  "kernelspec": {
   "display_name": "Python 3",
   "language": "python",
   "name": "python3"
  },
  "language_info": {
   "codemirror_mode": {
    "name": "ipython",
    "version": 3
   },
   "file_extension": ".py",
   "mimetype": "text/x-python",
   "name": "python",
   "nbconvert_exporter": "python",
   "pygments_lexer": "ipython3",
   "version": "3.8.3"
  }
 },
 "nbformat": 4,
 "nbformat_minor": 4
}
