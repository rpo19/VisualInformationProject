{
 "cells": [
  {
   "cell_type": "code",
   "execution_count": 8,
   "metadata": {},
   "outputs": [],
   "source": [
    "from annoy import AnnoyIndex\n",
    "import pandas as pd\n",
    "import numpy as np\n",
    "import cv2\n",
    "import sys  \n",
    "sys.path.insert(0, '../')\n",
    "import matplotlib.pyplot as plt\n",
    "from bot.utils.color_extractor import ColorFeaturesExtractor, Mode\n",
    "from bot.utils.BOVW_extractor import BOVWFeaturesExtractor\n",
    "from bot.utils.hog_extractor import HogFeaturesExtractor\n",
    "from bot.utils.lbp_extractor import LBPFeaturesExtractor\n",
    "from bot.utils.retriever import Retriever\n",
    "from bot.utils.utils import get_names_from_indexes\n",
    "import tensorflow as tf\n",
    "from skimage.io import imread\n",
    "import pickle\n",
    "from tensorflow.keras.preprocessing import image\n",
    "from tensorflow.keras.applications.resnet50 import ResNet50\n",
    "from tensorflow.keras.applications.resnet50 import preprocess_input"
   ]
  },
  {
   "cell_type": "markdown",
   "metadata": {},
   "source": [
    "# Create indexes"
   ]
  },
  {
   "cell_type": "code",
   "execution_count": 3,
   "metadata": {},
   "outputs": [],
   "source": [
    "def create_index(features_path, index_dir_path, retrieval_mode, metric):\n",
    "    # read features\n",
    "    df_features = pd.read_csv(features_path, sep=',', header=None)\n",
    "    print('features',len(df_features.loc[0,:]))\n",
    "    # instantiate retriever\n",
    "    retriever = Retriever(index_dir_path)\n",
    "    # create index\n",
    "    retriever.create_index(df_features, retrieval_mode=retrieval_mode, metric = metric)\n",
    "#     return df_features"
   ]
  },
  {
   "cell_type": "code",
   "execution_count": 3,
   "metadata": {},
   "outputs": [],
   "source": [
    "# # neural network efficientnet features\n",
    "create_index('../data/nn_features.csv', '../indexes/', 'neural_network', 'angular')"
   ]
  },
  {
   "cell_type": "code",
   "execution_count": 4,
   "metadata": {},
   "outputs": [],
   "source": [
    "# neural network efficientnet features pc\n",
    "create_index('../data/nn_features_pca.csv', '../indexes/', 'neural_network_pca', 'angular')"
   ]
  },
  {
   "cell_type": "code",
   "execution_count": 3,
   "metadata": {},
   "outputs": [],
   "source": [
    "# # neural network resnet features\n",
    "create_index('../data/nn_resnet_features.csv', '../indexes/', 'neural_network_resnet', 'angular')"
   ]
  },
  {
   "cell_type": "code",
   "execution_count": 4,
   "metadata": {},
   "outputs": [],
   "source": [
    "# neural network resnet features pc\n",
    "create_index('../data/nn_resnet_features_pca.csv', '../indexes/', 'neural_network_resnet_pca', 'angular')"
   ]
  },
  {
   "cell_type": "code",
   "execution_count": 5,
   "metadata": {},
   "outputs": [],
   "source": [
    "# # color features\n",
    "create_index('../data/color_features.csv', '../indexes/', 'color', 'euclidean')"
   ]
  },
  {
   "cell_type": "code",
   "execution_count": 6,
   "metadata": {},
   "outputs": [],
   "source": [
    "# color features pca\n",
    "create_index('../data/color_features_pca.csv', '../indexes/', 'color_pca', 'euclidean')"
   ]
  },
  {
   "cell_type": "code",
   "execution_count": 7,
   "metadata": {},
   "outputs": [],
   "source": [
    "# # color features center subregions\n",
    "create_index('../data/color_features_center_subregions.csv', '../indexes/', 'color_center_subregions', 'euclidean')"
   ]
  },
  {
   "cell_type": "code",
   "execution_count": 8,
   "metadata": {},
   "outputs": [],
   "source": [
    "# color features center subregions pca\n",
    "create_index('../data/color_features_center_subregions_pca.csv', '../indexes/', 'color_center_subregions_pca', 'euclidean')"
   ]
  },
  {
   "cell_type": "code",
   "execution_count": 9,
   "metadata": {},
   "outputs": [],
   "source": [
    "# # BOVW features\n",
    "# create_index('../data/BOVW_features.csv', '../indexes/', 'bovw', 'angular')"
   ]
  },
  {
   "cell_type": "code",
   "execution_count": 10,
   "metadata": {
    "scrolled": true
   },
   "outputs": [],
   "source": [
    "# # BOVW features pca\n",
    "# create_index('../data/BOVW_features_pca.csv', '../indexes/', 'bovw_pca', 'angular')"
   ]
  },
  {
   "cell_type": "code",
   "execution_count": 11,
   "metadata": {},
   "outputs": [],
   "source": [
    "# # HOG features\n",
    "create_index('../data/hog_features.csv', '../indexes/', 'hog', 'euclidean')"
   ]
  },
  {
   "cell_type": "code",
   "execution_count": 12,
   "metadata": {},
   "outputs": [],
   "source": [
    "# HOG features pca\n",
    "create_index('../data/hog_features_pca.csv', '../indexes/', 'hog_pca', 'euclidean')"
   ]
  },
  {
   "cell_type": "code",
   "execution_count": 13,
   "metadata": {},
   "outputs": [],
   "source": [
    "# # color + HOG features\n",
    "# create_index('../data/merged_color_hog_features.csv', '../indexes/', 'color_hog', 'angular')"
   ]
  },
  {
   "cell_type": "code",
   "execution_count": 14,
   "metadata": {},
   "outputs": [],
   "source": [
    "# color + HOG features with pca\n",
    "create_index('../data/hog_color_features_pca.csv', '../indexes/', 'hog_color_pca', 'euclidean')"
   ]
  },
  {
   "cell_type": "code",
   "execution_count": 15,
   "metadata": {},
   "outputs": [],
   "source": [
    "# # color + HOG features with pca and standardization\n",
    "# create_index('../data/merged_color_hog_pca_std.csv', '../indexes/', 'color_hog_pca_std', 'angular')"
   ]
  },
  {
   "cell_type": "code",
   "execution_count": 4,
   "metadata": {},
   "outputs": [
    {
     "name": "stdout",
     "output_type": "stream",
     "text": [
      "26\n"
     ]
    }
   ],
   "source": [
    "# lbp center features\n",
    "create_index('../data/lbp_center_features.csv', '../indexes/', 'lbp', 'euclidean')"
   ]
  },
  {
   "cell_type": "markdown",
   "metadata": {},
   "source": [
    "# Test retrieval"
   ]
  },
  {
   "cell_type": "code",
   "execution_count": 5,
   "metadata": {},
   "outputs": [],
   "source": [
    "# utils\n",
    "def show_images(idx, names_df, img_path):\n",
    "    # plot starting image\n",
    "    img_rgb = cv2.cvtColor(cv2.imread(img_path), cv2.COLOR_BGR2RGB)\n",
    "    fig, ax = plt.subplots(figsize=(2, 2))\n",
    "    ax.imshow(img_rgb)\n",
    "    plt.show()\n",
    "    # extract names\n",
    "    names = names_df.loc[idx,'name'].values\n",
    "    # prepare plot\n",
    "    n_elements = len(names)\n",
    "    fig, ax = plt.subplots(1,n_elements,figsize=(12,6))\n",
    "    for i in range(0,n_elements):\n",
    "        tmp = cv2.imread('../data/train/' + names[i])\n",
    "        tmp = cv2.cvtColor(tmp, cv2.COLOR_BGR2RGB)\n",
    "        ax[i].imshow(tmp)\n",
    "    plt.show()\n",
    "    return names\n",
    "\n",
    "# efficientnet\n",
    "def loadimg(img_path):\n",
    "\n",
    "    im = tf.keras.preprocessing.image.load_img(\n",
    "        img_path,\n",
    "        target_size=(300, 300, 3)\n",
    "    )\n",
    "    imarr = tf.keras.preprocessing.image.img_to_array(im)\n",
    "    imarr = tf.keras.applications.efficientnet.preprocess_input(imarr)\n",
    "    return np.array([imarr])\n",
    "\n",
    "# resnet\n",
    "def preprocess_img(img_path):\n",
    "    img = image.load_img(img_path, target_size=(224, 224))\n",
    "    img_data = image.img_to_array(img)\n",
    "    img_data = np.expand_dims(img_data, axis=0)\n",
    "    img_data = preprocess_input(img_data)\n",
    "    return img_data\n"
   ]
  },
  {
   "cell_type": "code",
   "execution_count": 180,
   "metadata": {
    "scrolled": true
   },
   "outputs": [
    {
     "name": "stdout",
     "output_type": "stream",
     "text": [
      "loading neural_network ...\n",
      "loading neural_network_pca ...\n",
      "loading color ...\n",
      "loading color_pca ...\n",
      "loading color_center_subregions ...\n",
      "loading color_center_subregions_pca ...\n",
      "loading hog ...\n",
      "loading hog_pca ...\n",
      "loading hog_color_pca ...\n",
      "loading neural_network_resnet ...\n",
      "loading neural_network_resnet_pca ...\n",
      "loading lbp ...\n"
     ]
    }
   ],
   "source": [
    "# instantiate retriever\n",
    "retriever = Retriever('../indexes/', load_all=True)\n",
    "# choose image\n",
    "img_path = '../test_imgs/not_blurred_1.jpg'\n",
    "# settings\n",
    "n_neighbours = 10"
   ]
  },
  {
   "cell_type": "markdown",
   "metadata": {},
   "source": [
    "## Neural network resnet"
   ]
  },
  {
   "cell_type": "code",
   "execution_count": 181,
   "metadata": {},
   "outputs": [],
   "source": [
    "# read images names\n",
    "df_names = pd.read_csv('../data/retrieval_base.csv')\n",
    "# choose img\n",
    "# img_path = '../test_imgs/tshirt.jpg'"
   ]
  },
  {
   "cell_type": "code",
   "execution_count": 182,
   "metadata": {},
   "outputs": [],
   "source": [
    "# read model\n",
    "model = ResNet50(weights='imagenet', include_top=False, pooling='max')"
   ]
  },
  {
   "cell_type": "code",
   "execution_count": null,
   "metadata": {},
   "outputs": [],
   "source": [
    "# NN\n",
    "img_features_nn = model.predict(preprocess_img(img_path))[0]"
   ]
  },
  {
   "cell_type": "code",
   "execution_count": null,
   "metadata": {},
   "outputs": [],
   "source": [
    "# retrieve images\n",
    "(indexes, distances) = retriever.retrieve(img_features_nn, retrieval_mode='neural_network_resnet', n_neighbours=n_neighbours, include_distances=True)"
   ]
  },
  {
   "cell_type": "code",
   "execution_count": null,
   "metadata": {},
   "outputs": [],
   "source": [
    "distances"
   ]
  },
  {
   "cell_type": "code",
   "execution_count": null,
   "metadata": {
    "scrolled": true
   },
   "outputs": [],
   "source": [
    "# show retrieval results\n",
    "show_images(indexes, df_names, img_path)\n"
   ]
  },
  {
   "cell_type": "markdown",
   "metadata": {},
   "source": [
    "## Neural network resnet PCA"
   ]
  },
  {
   "cell_type": "code",
   "execution_count": null,
   "metadata": {},
   "outputs": [],
   "source": [
    "# read images names\n",
    "df_names = pd.read_csv('../data/retrieval_base.csv')\n",
    "# choose img\n",
    "# img_path = '../test_imgs/tshirt.jpg'"
   ]
  },
  {
   "cell_type": "code",
   "execution_count": null,
   "metadata": {},
   "outputs": [],
   "source": [
    "# read model\n",
    "model = ResNet50(weights='imagenet', include_top=False, pooling='max')"
   ]
  },
  {
   "cell_type": "code",
   "execution_count": null,
   "metadata": {},
   "outputs": [],
   "source": [
    "# NN\n",
    "img_features_nn = model.predict(preprocess_img(img_path))[0]\n",
    "# read pca model\n",
    "with open('../data/pca_nn_resnet.pckl', 'rb') as handle:\n",
    "                    pca_nn = pickle.load(handle)\n",
    "# apply pca\n",
    "img_features_nn_pca = pca_nn.transform([img_features_nn])[0]"
   ]
  },
  {
   "cell_type": "code",
   "execution_count": null,
   "metadata": {},
   "outputs": [],
   "source": [
    "# retrieve images\n",
    "(indexes, distances) = retriever.retrieve(img_features_nn_pca, retrieval_mode='neural_network_resnet_pca', n_neighbours=n_neighbours, include_distances=True)"
   ]
  },
  {
   "cell_type": "code",
   "execution_count": null,
   "metadata": {},
   "outputs": [],
   "source": [
    "distances"
   ]
  },
  {
   "cell_type": "code",
   "execution_count": null,
   "metadata": {
    "scrolled": false
   },
   "outputs": [],
   "source": [
    "# show retrieval results\n",
    "show_images(indexes, df_names, img_path)\n"
   ]
  },
  {
   "cell_type": "markdown",
   "metadata": {},
   "source": [
    "## Neural network efficientnet"
   ]
  },
  {
   "cell_type": "code",
   "execution_count": null,
   "metadata": {},
   "outputs": [],
   "source": [
    "# read images names\n",
    "df_names = pd.read_csv('../data/retrieval_base.csv')\n",
    "# choose img\n",
    "# img_path = '../test_imgs/tshirt.jpg'"
   ]
  },
  {
   "cell_type": "code",
   "execution_count": null,
   "metadata": {},
   "outputs": [],
   "source": [
    "# read model\n",
    "model = tf.keras.models.load_model('../data/model.h5')"
   ]
  },
  {
   "cell_type": "code",
   "execution_count": null,
   "metadata": {},
   "outputs": [],
   "source": [
    "# NN\n",
    "img_features_nn = model.predict(loadimg(img_path))[1][0]"
   ]
  },
  {
   "cell_type": "code",
   "execution_count": null,
   "metadata": {},
   "outputs": [],
   "source": [
    "# retrieve images\n",
    "(indexes, distances) = retriever.retrieve(img_features_nn, retrieval_mode='neural_network', n_neighbours=n_neighbours, include_distances=True)"
   ]
  },
  {
   "cell_type": "code",
   "execution_count": null,
   "metadata": {},
   "outputs": [],
   "source": [
    "distances"
   ]
  },
  {
   "cell_type": "code",
   "execution_count": null,
   "metadata": {
    "scrolled": true
   },
   "outputs": [],
   "source": [
    "# show retrieval results\n",
    "show_images(indexes, df_names, img_path)\n"
   ]
  },
  {
   "cell_type": "markdown",
   "metadata": {},
   "source": [
    "## Neural network efficientnet PCA"
   ]
  },
  {
   "cell_type": "code",
   "execution_count": null,
   "metadata": {},
   "outputs": [],
   "source": [
    "# read images names\n",
    "df_names = pd.read_csv('../data/retrieval_base.csv')\n",
    "# choose img\n",
    "# img_path = '../test_imgs/tshirt.jpg'"
   ]
  },
  {
   "cell_type": "code",
   "execution_count": null,
   "metadata": {},
   "outputs": [],
   "source": [
    "# read model\n",
    "model = tf.keras.models.load_model('../data/model.h5')"
   ]
  },
  {
   "cell_type": "code",
   "execution_count": null,
   "metadata": {},
   "outputs": [],
   "source": [
    "# NN\n",
    "img_features_nn = model.predict(loadimg(img_path))[1][0]\n",
    "# read pca model\n",
    "with open('../data/pca_nn.pckl', 'rb') as handle:\n",
    "                    pca_nn = pickle.load(handle)\n",
    "# apply pca\n",
    "img_features_nn_pca = pca_nn.transform([img_features_nn])[0]"
   ]
  },
  {
   "cell_type": "code",
   "execution_count": null,
   "metadata": {},
   "outputs": [],
   "source": [
    "# retrieve images\n",
    "(indexes, distances) = retriever.retrieve(img_features_nn_pca, retrieval_mode='neural_network_pca', n_neighbours=n_neighbours, include_distances=True)"
   ]
  },
  {
   "cell_type": "code",
   "execution_count": null,
   "metadata": {},
   "outputs": [],
   "source": [
    "distances"
   ]
  },
  {
   "cell_type": "code",
   "execution_count": null,
   "metadata": {
    "scrolled": true
   },
   "outputs": [],
   "source": [
    "# show retrieval results\n",
    "show_images(indexes, df_names, img_path)\n"
   ]
  },
  {
   "cell_type": "markdown",
   "metadata": {},
   "source": [
    "## Color"
   ]
  },
  {
   "cell_type": "code",
   "execution_count": null,
   "metadata": {},
   "outputs": [],
   "source": [
    "# read images names\n",
    "df_names = pd.read_csv('../data/retrieval_base.csv')\n",
    "# choose img\n",
    "# img_path = '../test_imgs/tshirt.jpg'"
   ]
  },
  {
   "cell_type": "code",
   "execution_count": null,
   "metadata": {},
   "outputs": [],
   "source": [
    "# color extractor\n",
    "features_extractor = ColorFeaturesExtractor((24, 26, 3), 0.6)\n",
    "img_features_color = features_extractor.extract(cv2.imread(img_path), Mode.CENTER_ONLY)"
   ]
  },
  {
   "cell_type": "code",
   "execution_count": null,
   "metadata": {},
   "outputs": [],
   "source": [
    "# retrieve images\n",
    "(indexes, distances) = retriever.retrieve(img_features_color, retrieval_mode='color', n_neighbours=n_neighbours, include_distances=True)"
   ]
  },
  {
   "cell_type": "code",
   "execution_count": null,
   "metadata": {},
   "outputs": [],
   "source": [
    "distances"
   ]
  },
  {
   "cell_type": "code",
   "execution_count": null,
   "metadata": {
    "scrolled": false
   },
   "outputs": [],
   "source": [
    "# show retrieval results\n",
    "show_images(indexes, df_names, img_path)"
   ]
  },
  {
   "cell_type": "markdown",
   "metadata": {},
   "source": [
    "## Color PCA"
   ]
  },
  {
   "cell_type": "code",
   "execution_count": null,
   "metadata": {},
   "outputs": [],
   "source": [
    "# read images names\n",
    "df_names = pd.read_csv('../data/retrieval_base.csv')\n",
    "# choose img\n",
    "# img_path = '../test_imgs/tshirt.jpg'"
   ]
  },
  {
   "cell_type": "code",
   "execution_count": null,
   "metadata": {},
   "outputs": [],
   "source": [
    "# color extractor\n",
    "features_extractor = ColorFeaturesExtractor((24, 26, 3), 0.6)\n",
    "img_features_color = features_extractor.extract(cv2.imread(img_path), Mode.CENTER_ONLY)\n",
    "# read pca model\n",
    "with open('../data/pca_color.pckl', 'rb') as handle:\n",
    "                    pca_color = pickle.load(handle)\n",
    "# apply pca\n",
    "img_features_color_pca = pca_color.transform([img_features_color])[0]"
   ]
  },
  {
   "cell_type": "code",
   "execution_count": null,
   "metadata": {},
   "outputs": [],
   "source": [
    "# retrieve images\n",
    "(indexes, distances) = retriever.retrieve(img_features_color_pca, retrieval_mode='color_pca', n_neighbours=n_neighbours, include_distances=True)"
   ]
  },
  {
   "cell_type": "code",
   "execution_count": null,
   "metadata": {},
   "outputs": [],
   "source": [
    "distances"
   ]
  },
  {
   "cell_type": "code",
   "execution_count": null,
   "metadata": {
    "scrolled": false
   },
   "outputs": [],
   "source": [
    "# show retrieval results\n",
    "show_images(indexes, df_names, img_path)"
   ]
  },
  {
   "cell_type": "markdown",
   "metadata": {},
   "source": [
    "## Color center subregions"
   ]
  },
  {
   "cell_type": "code",
   "execution_count": null,
   "metadata": {},
   "outputs": [],
   "source": [
    "# read images names\n",
    "df_names = pd.read_csv('../data/retrieval_base.csv')\n",
    "# choose img\n",
    "# img_path = '../test_imgs/tshirt.jpg'"
   ]
  },
  {
   "cell_type": "code",
   "execution_count": null,
   "metadata": {},
   "outputs": [],
   "source": [
    "# color extractor\n",
    "features_extractor = ColorFeaturesExtractor((16, 18, 2), 0.6)\n",
    "img_features_color = features_extractor.extract(cv2.imread(img_path), Mode.CENTER_SUBREGIONS)"
   ]
  },
  {
   "cell_type": "code",
   "execution_count": null,
   "metadata": {},
   "outputs": [],
   "source": [
    "# retrieve images\n",
    "(indexes, distances) = retriever.retrieve(img_features_color, retrieval_mode='color_center_subregions', n_neighbours=n_neighbours, include_distances=True)"
   ]
  },
  {
   "cell_type": "code",
   "execution_count": null,
   "metadata": {},
   "outputs": [],
   "source": [
    "distances"
   ]
  },
  {
   "cell_type": "code",
   "execution_count": null,
   "metadata": {
    "scrolled": false
   },
   "outputs": [],
   "source": [
    "# show retrieval results\n",
    "show_images(indexes, df_names, img_path)"
   ]
  },
  {
   "cell_type": "markdown",
   "metadata": {},
   "source": [
    "## Color center subregions PCA"
   ]
  },
  {
   "cell_type": "code",
   "execution_count": null,
   "metadata": {},
   "outputs": [],
   "source": [
    "# read images names\n",
    "df_names = pd.read_csv('../data/retrieval_base.csv')\n",
    "# choose img\n",
    "# img_path = '../test_imgs/tshirt.jpg'"
   ]
  },
  {
   "cell_type": "code",
   "execution_count": null,
   "metadata": {},
   "outputs": [],
   "source": [
    "# color extractor\n",
    "features_extractor = ColorFeaturesExtractor((16, 18, 2), 0.6)\n",
    "img_features_color = features_extractor.extract(cv2.imread(img_path), Mode.CENTER_SUBREGIONS)\n",
    "# read pca model\n",
    "with open('../data/pca_color_center_subregions.pckl', 'rb') as handle:\n",
    "                    pca_color_center_subregions = pickle.load(handle)\n",
    "# apply pca\n",
    "img_features_color_pca = pca_color_center_subregions.transform([img_features_color])[0]"
   ]
  },
  {
   "cell_type": "code",
   "execution_count": null,
   "metadata": {},
   "outputs": [],
   "source": [
    "# retrieve images\n",
    "(indexes, distances) = retriever.retrieve(img_features_color_pca, retrieval_mode='color_center_subregions_pca', n_neighbours=n_neighbours, include_distances=True)"
   ]
  },
  {
   "cell_type": "code",
   "execution_count": null,
   "metadata": {},
   "outputs": [],
   "source": [
    "distances"
   ]
  },
  {
   "cell_type": "code",
   "execution_count": null,
   "metadata": {
    "scrolled": true
   },
   "outputs": [],
   "source": [
    "# show retrieval results\n",
    "show_images(indexes, df_names, img_path)"
   ]
  },
  {
   "cell_type": "markdown",
   "metadata": {},
   "source": [
    "## HOG"
   ]
  },
  {
   "cell_type": "code",
   "execution_count": null,
   "metadata": {},
   "outputs": [],
   "source": [
    "# read images names\n",
    "df_names = pd.read_csv('../data/retrieval_base.csv')\n",
    "# choose img\n",
    "# img_path = '../test_imgs/tshirt.jpg'"
   ]
  },
  {
   "cell_type": "code",
   "execution_count": null,
   "metadata": {},
   "outputs": [],
   "source": [
    "# HOG extractor\n",
    "features_extractor = HogFeaturesExtractor()\n",
    "img_features_hog = features_extractor.extract(imread(img_path))"
   ]
  },
  {
   "cell_type": "code",
   "execution_count": null,
   "metadata": {},
   "outputs": [],
   "source": [
    "# retrieve images\n",
    "(indexes, distances) = retriever.retrieve(img_features_hog, retrieval_mode='hog', n_neighbours=n_neighbours, include_distances=True)"
   ]
  },
  {
   "cell_type": "code",
   "execution_count": null,
   "metadata": {},
   "outputs": [],
   "source": [
    "distances"
   ]
  },
  {
   "cell_type": "code",
   "execution_count": null,
   "metadata": {
    "scrolled": false
   },
   "outputs": [],
   "source": [
    "# show retrieval results\n",
    "show_images(indexes, df_names, img_path)"
   ]
  },
  {
   "cell_type": "markdown",
   "metadata": {},
   "source": [
    "## HOG PCA"
   ]
  },
  {
   "cell_type": "code",
   "execution_count": null,
   "metadata": {},
   "outputs": [],
   "source": [
    "# read images names\n",
    "df_names = pd.read_csv('../data/retrieval_base.csv')\n",
    "# choose img\n",
    "# img_path = '../test_imgs/rpo.jpg'"
   ]
  },
  {
   "cell_type": "code",
   "execution_count": null,
   "metadata": {},
   "outputs": [],
   "source": [
    "# HOG extractor\n",
    "features_extractor = HogFeaturesExtractor()\n",
    "img_features_hog = features_extractor.extract(imread(img_path))\n",
    "# read pca model\n",
    "with open('../data/pca_hog.pckl', 'rb') as handle:\n",
    "                    pca_hog = pickle.load(handle)\n",
    "# apply pca\n",
    "img_features_hog_pca = pca_hog.transform([img_features_hog])[0]"
   ]
  },
  {
   "cell_type": "code",
   "execution_count": null,
   "metadata": {},
   "outputs": [],
   "source": [
    "# retrieve images\n",
    "(indexes, distances) = retriever.retrieve(img_features_hog_pca, retrieval_mode='hog_pca', n_neighbours=n_neighbours, include_distances=True)"
   ]
  },
  {
   "cell_type": "code",
   "execution_count": null,
   "metadata": {},
   "outputs": [],
   "source": [
    "distances"
   ]
  },
  {
   "cell_type": "code",
   "execution_count": null,
   "metadata": {
    "scrolled": false
   },
   "outputs": [],
   "source": [
    "# show retrieval results\n",
    "show_images(indexes, df_names, img_path)"
   ]
  },
  {
   "cell_type": "markdown",
   "metadata": {},
   "source": [
    "## Color + HOG pca"
   ]
  },
  {
   "cell_type": "code",
   "execution_count": null,
   "metadata": {},
   "outputs": [],
   "source": [
    "# read images names\n",
    "df_names = pd.read_csv('../data/retrieval_base.csv')\n",
    "# choose img\n",
    "# img_path = '../test_imgs/rpo.jpg'"
   ]
  },
  {
   "cell_type": "code",
   "execution_count": null,
   "metadata": {},
   "outputs": [],
   "source": [
    "# extractors\n",
    "hog_features_extractor = HogFeaturesExtractor()\n",
    "color_features_extractor = ColorFeaturesExtractor((24, 26, 3), 0.6)\n",
    "# extract features\n",
    "img_features_hog = hog_features_extractor.extract(imread(img_path))\n",
    "img_features_color = color_features_extractor.extract(cv2.imread(img_path), Mode.CENTER_ONLY)\n",
    "# read pca models\n",
    "with open('../data/pca_hc_hog.pckl', 'rb') as handle:\n",
    "                    pca_hc_hog = pickle.load(handle)\n",
    "with open('../data/pca_hc_color.pckl', 'rb') as handle:\n",
    "                    pca_hc_color = pickle.load(handle)\n",
    "# apply pca\n",
    "img_features_hog_pca = pca_hc_hog.transform([img_features_hog])[0]\n",
    "img_features_color_pca = pca_hc_color.transform([img_features_color])[0]\n",
    "# merge features\n",
    "img_features_merged_pca = np.hstack([img_features_hog_pca, img_features_color_pca])"
   ]
  },
  {
   "cell_type": "code",
   "execution_count": null,
   "metadata": {},
   "outputs": [],
   "source": [
    "img_features_merged_pca.shape"
   ]
  },
  {
   "cell_type": "code",
   "execution_count": null,
   "metadata": {},
   "outputs": [],
   "source": [
    "# retrieve images\n",
    "(indexes, distances) = retriever.retrieve(img_features_merged_pca, retrieval_mode='hog_color_pca', n_neighbours=n_neighbours, include_distances=True)"
   ]
  },
  {
   "cell_type": "code",
   "execution_count": null,
   "metadata": {},
   "outputs": [],
   "source": [
    "distances"
   ]
  },
  {
   "cell_type": "code",
   "execution_count": null,
   "metadata": {
    "scrolled": true
   },
   "outputs": [],
   "source": [
    "# show retrieval results\n",
    "show_images(indexes, df_names, img_path)"
   ]
  },
  {
   "cell_type": "markdown",
   "metadata": {},
   "source": [
    "## LBP"
   ]
  },
  {
   "cell_type": "code",
   "execution_count": null,
   "metadata": {},
   "outputs": [],
   "source": [
    "# read images names\n",
    "df_names = pd.read_csv('../data/retrieval_base.csv')\n",
    "# choose img\n",
    "# img_path = '../test_imgs/tshirt.jpg'"
   ]
  },
  {
   "cell_type": "code",
   "execution_count": null,
   "metadata": {},
   "outputs": [],
   "source": [
    "# LBP extractor\n",
    "features_extractor = LBPFeaturesExtractor(24,7,0.6)\n",
    "img_features_lbp = features_extractor.extract(cv2.imread(img_path), center_only=True)"
   ]
  },
  {
   "cell_type": "code",
   "execution_count": null,
   "metadata": {},
   "outputs": [],
   "source": [
    "# retrieve images\n",
    "(indexes, distances) = retriever.retrieve(img_features_lbp, retrieval_mode='lbp', n_neighbours=n_neighbours, include_distances=True)"
   ]
  },
  {
   "cell_type": "code",
   "execution_count": null,
   "metadata": {},
   "outputs": [],
   "source": [
    "distances"
   ]
  },
  {
   "cell_type": "code",
   "execution_count": null,
   "metadata": {
    "scrolled": false
   },
   "outputs": [],
   "source": [
    "# show retrieval results\n",
    "show_images(indexes, df_names, img_path)"
   ]
  },
  {
   "cell_type": "code",
   "execution_count": null,
   "metadata": {},
   "outputs": [],
   "source": []
  },
  {
   "cell_type": "code",
   "execution_count": null,
   "metadata": {},
   "outputs": [],
   "source": []
  },
  {
   "cell_type": "markdown",
   "metadata": {},
   "source": [
    "# Test delete"
   ]
  },
  {
   "cell_type": "code",
   "execution_count": null,
   "metadata": {},
   "outputs": [],
   "source": [
    "# test delete index\n",
    "retriever.delete_index('replace_value')"
   ]
  },
  {
   "cell_type": "code",
   "execution_count": null,
   "metadata": {},
   "outputs": [],
   "source": []
  },
  {
   "cell_type": "code",
   "execution_count": null,
   "metadata": {},
   "outputs": [],
   "source": []
  },
  {
   "cell_type": "code",
   "execution_count": null,
   "metadata": {},
   "outputs": [],
   "source": []
  },
  {
   "cell_type": "code",
   "execution_count": null,
   "metadata": {},
   "outputs": [],
   "source": []
  },
  {
   "cell_type": "markdown",
   "metadata": {},
   "source": [
    "## Color + HOG (OLD)"
   ]
  },
  {
   "cell_type": "code",
   "execution_count": null,
   "metadata": {},
   "outputs": [],
   "source": [
    "# # read images names\n",
    "# df_names = pd.read_csv('../data/retrieval_base.csv')\n",
    "# # choose img\n",
    "# img_path = '../test_imgs/tshirt.jpg'"
   ]
  },
  {
   "cell_type": "code",
   "execution_count": null,
   "metadata": {},
   "outputs": [],
   "source": [
    "# # extractors\n",
    "# hog_features_extractor = HogFeaturesExtractor()\n",
    "# color_features_extractor = ColorFeaturesExtractor((24, 26, 3), 0.6)\n",
    "# # extract features\n",
    "# img_features_hog = hog_features_extractor.extract(imread(img_path))\n",
    "# img_features_color = color_features_extractor.extract(cv2.imread(img_path), center_only=True)\n",
    "# # merge features\n",
    "# img_features_merged = np.concatenate((img_features_hog, img_features_color))"
   ]
  },
  {
   "cell_type": "code",
   "execution_count": null,
   "metadata": {},
   "outputs": [],
   "source": [
    "# # retrieve images\n",
    "# (indexes, distances) = retriever.retrieve(img_features_merged, retrieval_mode='color_hog', n_neighbours=5, include_distances=True)"
   ]
  },
  {
   "cell_type": "code",
   "execution_count": null,
   "metadata": {},
   "outputs": [],
   "source": [
    "# distances"
   ]
  },
  {
   "cell_type": "code",
   "execution_count": null,
   "metadata": {
    "scrolled": false
   },
   "outputs": [],
   "source": [
    "# # show retrieval results\n",
    "# show_images(indexes, df_names)"
   ]
  },
  {
   "cell_type": "markdown",
   "metadata": {},
   "source": [
    "## Color + HOG pca and standardization (OLD)"
   ]
  },
  {
   "cell_type": "code",
   "execution_count": null,
   "metadata": {},
   "outputs": [],
   "source": [
    "# # read images names\n",
    "# df_names = pd.read_csv('../data/retrieval_base.csv')\n",
    "# # choose img\n",
    "# img_path = '../test_imgs/rpo.jpg'\n",
    "# img_rgb = cv2.cvtColor(cv2.imread(img_path), cv2.COLOR_BGR2RGB)\n",
    "# plt.imshow(img_rgb)"
   ]
  },
  {
   "cell_type": "code",
   "execution_count": null,
   "metadata": {},
   "outputs": [],
   "source": [
    "# # extractors\n",
    "# hog_features_extractor = HogFeaturesExtractor()\n",
    "# color_features_extractor = ColorFeaturesExtractor((24, 26, 3), 0.6)\n",
    "# # extract features\n",
    "# img_features_hog = hog_features_extractor.extract(imread(img_path))\n",
    "# img_features_color = color_features_extractor.extract(cv2.imread(img_path), center_only=True)\n",
    "# # merge features\n",
    "# img_features_merged = np.concatenate((img_features_hog, img_features_color))\n",
    "# # read and apply scaler\n",
    "# with open('../data/scaler_std.pckl', 'rb') as handle:\n",
    "#                     scaler = pickle.load(handle)\n",
    "# img_features_merged = scaler.transform([img_features_merged])\n",
    "# # read and apply pca model\n",
    "# with open('../data/pca_std.pckl', 'rb') as handle:\n",
    "#                     pca = pickle.load(handle)\n",
    "# # apply pca\n",
    "# img_features_merged_pca = pca.transform(img_features_merged)[0]"
   ]
  },
  {
   "cell_type": "code",
   "execution_count": null,
   "metadata": {},
   "outputs": [],
   "source": [
    "# img_features_merged_pca.shape"
   ]
  },
  {
   "cell_type": "code",
   "execution_count": null,
   "metadata": {},
   "outputs": [],
   "source": [
    "# # retrieve images\n",
    "# (indexes, distances) = retriever.retrieve(img_features_merged_pca, retrieval_mode='color_hog_pca_std', n_neighbours=5, include_distances=True)"
   ]
  },
  {
   "cell_type": "code",
   "execution_count": null,
   "metadata": {},
   "outputs": [],
   "source": [
    "distances"
   ]
  },
  {
   "cell_type": "code",
   "execution_count": null,
   "metadata": {
    "scrolled": true
   },
   "outputs": [],
   "source": [
    "# # show retrieval results\n",
    "# show_images(indexes, df_names)"
   ]
  },
  {
   "cell_type": "markdown",
   "metadata": {},
   "source": [
    "## BOVW (OLD)"
   ]
  },
  {
   "cell_type": "code",
   "execution_count": null,
   "metadata": {},
   "outputs": [],
   "source": [
    "# # read images names\n",
    "# df_names = pd.read_csv('../data/retrieval_base.csv')\n",
    "# # choose img\n",
    "# img_path = '../test_imgs/tshirt.jpg'\n",
    "# img_rgb = cv2.cvtColor(cv2.imread(img_path), cv2.COLOR_BGR2RGB)\n",
    "# plt.imshow(img_rgb)"
   ]
  },
  {
   "cell_type": "code",
   "execution_count": null,
   "metadata": {},
   "outputs": [],
   "source": [
    "# # BOVW extractor\n",
    "# features_extractor = BOVWFeaturesExtractor('../data/')\n",
    "# img_features_bovw = features_extractor.extract(cv2.imread(img_path))"
   ]
  },
  {
   "cell_type": "code",
   "execution_count": null,
   "metadata": {},
   "outputs": [],
   "source": [
    "# # retrieve images\n",
    "# (indexes, distances) = retriever.retrieve(img_features_bovw, retrieval_mode='bovw', n_neighbours=5, include_distances=True)"
   ]
  },
  {
   "cell_type": "code",
   "execution_count": null,
   "metadata": {},
   "outputs": [],
   "source": [
    "# distances"
   ]
  },
  {
   "cell_type": "code",
   "execution_count": null,
   "metadata": {},
   "outputs": [],
   "source": [
    "# # show retrieval results\n",
    "# show_images(indexes, df_names)"
   ]
  }
 ],
 "metadata": {
  "kernelspec": {
   "display_name": "Python 3",
   "language": "python",
   "name": "python3"
  },
  "language_info": {
   "codemirror_mode": {
    "name": "ipython",
    "version": 3
   },
   "file_extension": ".py",
   "mimetype": "text/x-python",
   "name": "python",
   "nbconvert_exporter": "python",
   "pygments_lexer": "ipython3",
   "version": "3.8.6"
  }
 },
 "nbformat": 4,
 "nbformat_minor": 4
}
