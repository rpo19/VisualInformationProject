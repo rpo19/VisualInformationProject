{
 "cells": [
  {
   "cell_type": "code",
   "execution_count": 6,
   "metadata": {},
   "outputs": [],
   "source": [
    "import pandas as pd\n",
    "import numpy as np\n",
    "import pickle\n",
    "from sklearn.decomposition import PCA\n",
    "from sklearn.preprocessing import StandardScaler"
   ]
  },
  {
   "cell_type": "code",
   "execution_count": 8,
   "metadata": {},
   "outputs": [],
   "source": [
    "# HOG features\n",
    "hog = pd.read_csv('../data/HOG_features.csv', sep=',', header=None)\n",
    "# color features\n",
    "color = pd.read_csv('../data/color_features.csv', sep=',', header=None)"
   ]
  },
  {
   "cell_type": "code",
   "execution_count": 13,
   "metadata": {},
   "outputs": [
    {
     "data": {
      "text/html": [
       "<div>\n",
       "<style scoped>\n",
       "    .dataframe tbody tr th:only-of-type {\n",
       "        vertical-align: middle;\n",
       "    }\n",
       "\n",
       "    .dataframe tbody tr th {\n",
       "        vertical-align: top;\n",
       "    }\n",
       "\n",
       "    .dataframe thead th {\n",
       "        text-align: right;\n",
       "    }\n",
       "</style>\n",
       "<table border=\"1\" class=\"dataframe\">\n",
       "  <thead>\n",
       "    <tr style=\"text-align: right;\">\n",
       "      <th></th>\n",
       "      <th>0</th>\n",
       "      <th>1</th>\n",
       "      <th>2</th>\n",
       "      <th>3</th>\n",
       "      <th>4</th>\n",
       "      <th>5</th>\n",
       "      <th>6</th>\n",
       "      <th>7</th>\n",
       "      <th>8</th>\n",
       "      <th>9</th>\n",
       "      <th>...</th>\n",
       "      <th>1862</th>\n",
       "      <th>1863</th>\n",
       "      <th>1864</th>\n",
       "      <th>1865</th>\n",
       "      <th>1866</th>\n",
       "      <th>1867</th>\n",
       "      <th>1868</th>\n",
       "      <th>1869</th>\n",
       "      <th>1870</th>\n",
       "      <th>1871</th>\n",
       "    </tr>\n",
       "  </thead>\n",
       "  <tbody>\n",
       "    <tr>\n",
       "      <th>0</th>\n",
       "      <td>0.026729</td>\n",
       "      <td>0.000946</td>\n",
       "      <td>0.036723</td>\n",
       "      <td>0.000038</td>\n",
       "      <td>0.000144</td>\n",
       "      <td>0.000000</td>\n",
       "      <td>0.000053</td>\n",
       "      <td>0.000000</td>\n",
       "      <td>0.000000</td>\n",
       "      <td>0.000038</td>\n",
       "      <td>...</td>\n",
       "      <td>0.00000</td>\n",
       "      <td>0.000000</td>\n",
       "      <td>0.000000</td>\n",
       "      <td>0.000000</td>\n",
       "      <td>0.000000</td>\n",
       "      <td>0.000000</td>\n",
       "      <td>0.000000</td>\n",
       "      <td>0.000000</td>\n",
       "      <td>0.000000</td>\n",
       "      <td>0.0</td>\n",
       "    </tr>\n",
       "    <tr>\n",
       "      <th>1</th>\n",
       "      <td>0.003756</td>\n",
       "      <td>0.001536</td>\n",
       "      <td>0.001724</td>\n",
       "      <td>0.000024</td>\n",
       "      <td>0.001441</td>\n",
       "      <td>0.001039</td>\n",
       "      <td>0.000354</td>\n",
       "      <td>0.002268</td>\n",
       "      <td>0.001465</td>\n",
       "      <td>0.000354</td>\n",
       "      <td>...</td>\n",
       "      <td>0.00163</td>\n",
       "      <td>0.000425</td>\n",
       "      <td>0.000094</td>\n",
       "      <td>0.000331</td>\n",
       "      <td>0.000047</td>\n",
       "      <td>0.000047</td>\n",
       "      <td>0.000024</td>\n",
       "      <td>0.000118</td>\n",
       "      <td>0.000024</td>\n",
       "      <td>0.0</td>\n",
       "    </tr>\n",
       "    <tr>\n",
       "      <th>2</th>\n",
       "      <td>0.050519</td>\n",
       "      <td>0.009091</td>\n",
       "      <td>0.055932</td>\n",
       "      <td>0.000401</td>\n",
       "      <td>0.010262</td>\n",
       "      <td>0.000293</td>\n",
       "      <td>0.000141</td>\n",
       "      <td>0.005066</td>\n",
       "      <td>0.000011</td>\n",
       "      <td>0.000108</td>\n",
       "      <td>...</td>\n",
       "      <td>0.00000</td>\n",
       "      <td>0.000022</td>\n",
       "      <td>0.000000</td>\n",
       "      <td>0.000000</td>\n",
       "      <td>0.000000</td>\n",
       "      <td>0.000000</td>\n",
       "      <td>0.000000</td>\n",
       "      <td>0.000033</td>\n",
       "      <td>0.000000</td>\n",
       "      <td>0.0</td>\n",
       "    </tr>\n",
       "    <tr>\n",
       "      <th>3</th>\n",
       "      <td>0.012686</td>\n",
       "      <td>0.512211</td>\n",
       "      <td>0.000010</td>\n",
       "      <td>0.000287</td>\n",
       "      <td>0.014964</td>\n",
       "      <td>0.000226</td>\n",
       "      <td>0.000021</td>\n",
       "      <td>0.236312</td>\n",
       "      <td>0.000000</td>\n",
       "      <td>0.019552</td>\n",
       "      <td>...</td>\n",
       "      <td>0.00000</td>\n",
       "      <td>0.000000</td>\n",
       "      <td>0.000000</td>\n",
       "      <td>0.000000</td>\n",
       "      <td>0.000000</td>\n",
       "      <td>0.000000</td>\n",
       "      <td>0.000000</td>\n",
       "      <td>0.000000</td>\n",
       "      <td>0.000000</td>\n",
       "      <td>0.0</td>\n",
       "    </tr>\n",
       "    <tr>\n",
       "      <th>4</th>\n",
       "      <td>0.010664</td>\n",
       "      <td>0.001464</td>\n",
       "      <td>0.929300</td>\n",
       "      <td>0.000064</td>\n",
       "      <td>0.001214</td>\n",
       "      <td>0.000008</td>\n",
       "      <td>0.000201</td>\n",
       "      <td>0.000515</td>\n",
       "      <td>0.000008</td>\n",
       "      <td>0.000185</td>\n",
       "      <td>...</td>\n",
       "      <td>0.00000</td>\n",
       "      <td>0.000000</td>\n",
       "      <td>0.000000</td>\n",
       "      <td>0.000000</td>\n",
       "      <td>0.000000</td>\n",
       "      <td>0.000000</td>\n",
       "      <td>0.000000</td>\n",
       "      <td>0.000000</td>\n",
       "      <td>0.000000</td>\n",
       "      <td>0.0</td>\n",
       "    </tr>\n",
       "    <tr>\n",
       "      <th>...</th>\n",
       "      <td>...</td>\n",
       "      <td>...</td>\n",
       "      <td>...</td>\n",
       "      <td>...</td>\n",
       "      <td>...</td>\n",
       "      <td>...</td>\n",
       "      <td>...</td>\n",
       "      <td>...</td>\n",
       "      <td>...</td>\n",
       "      <td>...</td>\n",
       "      <td>...</td>\n",
       "      <td>...</td>\n",
       "      <td>...</td>\n",
       "      <td>...</td>\n",
       "      <td>...</td>\n",
       "      <td>...</td>\n",
       "      <td>...</td>\n",
       "      <td>...</td>\n",
       "      <td>...</td>\n",
       "      <td>...</td>\n",
       "      <td>...</td>\n",
       "    </tr>\n",
       "    <tr>\n",
       "      <th>31320</th>\n",
       "      <td>0.007877</td>\n",
       "      <td>0.000000</td>\n",
       "      <td>0.000000</td>\n",
       "      <td>0.001318</td>\n",
       "      <td>0.000068</td>\n",
       "      <td>0.000000</td>\n",
       "      <td>0.005341</td>\n",
       "      <td>0.000270</td>\n",
       "      <td>0.000000</td>\n",
       "      <td>0.005950</td>\n",
       "      <td>...</td>\n",
       "      <td>0.00000</td>\n",
       "      <td>0.000101</td>\n",
       "      <td>0.000000</td>\n",
       "      <td>0.000000</td>\n",
       "      <td>0.000034</td>\n",
       "      <td>0.000000</td>\n",
       "      <td>0.000000</td>\n",
       "      <td>0.000034</td>\n",
       "      <td>0.000000</td>\n",
       "      <td>0.0</td>\n",
       "    </tr>\n",
       "    <tr>\n",
       "      <th>31321</th>\n",
       "      <td>0.007877</td>\n",
       "      <td>0.000000</td>\n",
       "      <td>0.000000</td>\n",
       "      <td>0.001318</td>\n",
       "      <td>0.000068</td>\n",
       "      <td>0.000000</td>\n",
       "      <td>0.005341</td>\n",
       "      <td>0.000270</td>\n",
       "      <td>0.000000</td>\n",
       "      <td>0.005950</td>\n",
       "      <td>...</td>\n",
       "      <td>0.00000</td>\n",
       "      <td>0.000101</td>\n",
       "      <td>0.000000</td>\n",
       "      <td>0.000000</td>\n",
       "      <td>0.000034</td>\n",
       "      <td>0.000000</td>\n",
       "      <td>0.000000</td>\n",
       "      <td>0.000034</td>\n",
       "      <td>0.000000</td>\n",
       "      <td>0.0</td>\n",
       "    </tr>\n",
       "    <tr>\n",
       "      <th>31322</th>\n",
       "      <td>0.004749</td>\n",
       "      <td>0.000576</td>\n",
       "      <td>0.821584</td>\n",
       "      <td>0.001065</td>\n",
       "      <td>0.001911</td>\n",
       "      <td>0.000135</td>\n",
       "      <td>0.001073</td>\n",
       "      <td>0.003322</td>\n",
       "      <td>0.000000</td>\n",
       "      <td>0.006413</td>\n",
       "      <td>...</td>\n",
       "      <td>0.00000</td>\n",
       "      <td>0.000000</td>\n",
       "      <td>0.000000</td>\n",
       "      <td>0.000000</td>\n",
       "      <td>0.000000</td>\n",
       "      <td>0.000000</td>\n",
       "      <td>0.000000</td>\n",
       "      <td>0.000000</td>\n",
       "      <td>0.000000</td>\n",
       "      <td>0.0</td>\n",
       "    </tr>\n",
       "    <tr>\n",
       "      <th>31323</th>\n",
       "      <td>0.021575</td>\n",
       "      <td>0.000651</td>\n",
       "      <td>0.000000</td>\n",
       "      <td>0.000667</td>\n",
       "      <td>0.002034</td>\n",
       "      <td>0.000000</td>\n",
       "      <td>0.004865</td>\n",
       "      <td>0.004393</td>\n",
       "      <td>0.000000</td>\n",
       "      <td>0.002001</td>\n",
       "      <td>...</td>\n",
       "      <td>0.00000</td>\n",
       "      <td>0.000000</td>\n",
       "      <td>0.000000</td>\n",
       "      <td>0.000000</td>\n",
       "      <td>0.000000</td>\n",
       "      <td>0.000000</td>\n",
       "      <td>0.000000</td>\n",
       "      <td>0.000000</td>\n",
       "      <td>0.000000</td>\n",
       "      <td>0.0</td>\n",
       "    </tr>\n",
       "    <tr>\n",
       "      <th>31324</th>\n",
       "      <td>0.005334</td>\n",
       "      <td>0.006218</td>\n",
       "      <td>0.024642</td>\n",
       "      <td>0.016575</td>\n",
       "      <td>0.004882</td>\n",
       "      <td>0.000171</td>\n",
       "      <td>0.044653</td>\n",
       "      <td>0.000241</td>\n",
       "      <td>0.000000</td>\n",
       "      <td>0.053804</td>\n",
       "      <td>...</td>\n",
       "      <td>0.00000</td>\n",
       "      <td>0.000000</td>\n",
       "      <td>0.000000</td>\n",
       "      <td>0.000000</td>\n",
       "      <td>0.000000</td>\n",
       "      <td>0.000000</td>\n",
       "      <td>0.000000</td>\n",
       "      <td>0.000010</td>\n",
       "      <td>0.000000</td>\n",
       "      <td>0.0</td>\n",
       "    </tr>\n",
       "  </tbody>\n",
       "</table>\n",
       "<p>31325 rows × 1872 columns</p>\n",
       "</div>"
      ],
      "text/plain": [
       "           0         1         2         3         4         5         6     \\\n",
       "0      0.026729  0.000946  0.036723  0.000038  0.000144  0.000000  0.000053   \n",
       "1      0.003756  0.001536  0.001724  0.000024  0.001441  0.001039  0.000354   \n",
       "2      0.050519  0.009091  0.055932  0.000401  0.010262  0.000293  0.000141   \n",
       "3      0.012686  0.512211  0.000010  0.000287  0.014964  0.000226  0.000021   \n",
       "4      0.010664  0.001464  0.929300  0.000064  0.001214  0.000008  0.000201   \n",
       "...         ...       ...       ...       ...       ...       ...       ...   \n",
       "31320  0.007877  0.000000  0.000000  0.001318  0.000068  0.000000  0.005341   \n",
       "31321  0.007877  0.000000  0.000000  0.001318  0.000068  0.000000  0.005341   \n",
       "31322  0.004749  0.000576  0.821584  0.001065  0.001911  0.000135  0.001073   \n",
       "31323  0.021575  0.000651  0.000000  0.000667  0.002034  0.000000  0.004865   \n",
       "31324  0.005334  0.006218  0.024642  0.016575  0.004882  0.000171  0.044653   \n",
       "\n",
       "           7         8         9     ...     1862      1863      1864  \\\n",
       "0      0.000000  0.000000  0.000038  ...  0.00000  0.000000  0.000000   \n",
       "1      0.002268  0.001465  0.000354  ...  0.00163  0.000425  0.000094   \n",
       "2      0.005066  0.000011  0.000108  ...  0.00000  0.000022  0.000000   \n",
       "3      0.236312  0.000000  0.019552  ...  0.00000  0.000000  0.000000   \n",
       "4      0.000515  0.000008  0.000185  ...  0.00000  0.000000  0.000000   \n",
       "...         ...       ...       ...  ...      ...       ...       ...   \n",
       "31320  0.000270  0.000000  0.005950  ...  0.00000  0.000101  0.000000   \n",
       "31321  0.000270  0.000000  0.005950  ...  0.00000  0.000101  0.000000   \n",
       "31322  0.003322  0.000000  0.006413  ...  0.00000  0.000000  0.000000   \n",
       "31323  0.004393  0.000000  0.002001  ...  0.00000  0.000000  0.000000   \n",
       "31324  0.000241  0.000000  0.053804  ...  0.00000  0.000000  0.000000   \n",
       "\n",
       "           1865      1866      1867      1868      1869      1870  1871  \n",
       "0      0.000000  0.000000  0.000000  0.000000  0.000000  0.000000   0.0  \n",
       "1      0.000331  0.000047  0.000047  0.000024  0.000118  0.000024   0.0  \n",
       "2      0.000000  0.000000  0.000000  0.000000  0.000033  0.000000   0.0  \n",
       "3      0.000000  0.000000  0.000000  0.000000  0.000000  0.000000   0.0  \n",
       "4      0.000000  0.000000  0.000000  0.000000  0.000000  0.000000   0.0  \n",
       "...         ...       ...       ...       ...       ...       ...   ...  \n",
       "31320  0.000000  0.000034  0.000000  0.000000  0.000034  0.000000   0.0  \n",
       "31321  0.000000  0.000034  0.000000  0.000000  0.000034  0.000000   0.0  \n",
       "31322  0.000000  0.000000  0.000000  0.000000  0.000000  0.000000   0.0  \n",
       "31323  0.000000  0.000000  0.000000  0.000000  0.000000  0.000000   0.0  \n",
       "31324  0.000000  0.000000  0.000000  0.000000  0.000010  0.000000   0.0  \n",
       "\n",
       "[31325 rows x 1872 columns]"
      ]
     },
     "execution_count": 13,
     "metadata": {},
     "output_type": "execute_result"
    }
   ],
   "source": [
    "color"
   ]
  },
  {
   "cell_type": "code",
   "execution_count": 9,
   "metadata": {},
   "outputs": [],
   "source": [
    "# merge features\n",
    "merged = pd.concat([hog, color], axis=1)"
   ]
  },
  {
   "cell_type": "code",
   "execution_count": 35,
   "metadata": {},
   "outputs": [],
   "source": [
    "# merged.to_csv('../data/merged_color_hog_features.csv', sep=',', header=None, index=False)"
   ]
  },
  {
   "cell_type": "code",
   "execution_count": 10,
   "metadata": {},
   "outputs": [
    {
     "data": {
      "text/plain": [
       "StandardScaler()"
      ]
     },
     "execution_count": 10,
     "metadata": {},
     "output_type": "execute_result"
    }
   ],
   "source": [
    "# standardize data\n",
    "scaler = StandardScaler()\n",
    "scaler.fit(merged)"
   ]
  },
  {
   "cell_type": "code",
   "execution_count": null,
   "metadata": {},
   "outputs": [],
   "source": []
  },
  {
   "cell_type": "code",
   "execution_count": 16,
   "metadata": {},
   "outputs": [],
   "source": [
    "# save scaler model\n",
    "with open('../data/scaler_std.pckl', 'wb') as handle:\n",
    "                    pickle.dump(scaler, handle, protocol=pickle.HIGHEST_PROTOCOL)"
   ]
  },
  {
   "cell_type": "code",
   "execution_count": 11,
   "metadata": {},
   "outputs": [],
   "source": [
    "merged = scaler.transform(merged)"
   ]
  },
  {
   "cell_type": "code",
   "execution_count": 14,
   "metadata": {},
   "outputs": [
    {
     "data": {
      "text/plain": [
       "(31325, 5652)"
      ]
     },
     "execution_count": 14,
     "metadata": {},
     "output_type": "execute_result"
    }
   ],
   "source": [
    "merged.shape"
   ]
  },
  {
   "cell_type": "code",
   "execution_count": 39,
   "metadata": {},
   "outputs": [],
   "source": [
    "pca = PCA(0.95)"
   ]
  },
  {
   "cell_type": "code",
   "execution_count": 40,
   "metadata": {},
   "outputs": [
    {
     "data": {
      "text/plain": [
       "PCA(n_components=0.95)"
      ]
     },
     "execution_count": 40,
     "metadata": {},
     "output_type": "execute_result"
    }
   ],
   "source": [
    "pca.fit(merged)"
   ]
  },
  {
   "cell_type": "code",
   "execution_count": 42,
   "metadata": {},
   "outputs": [],
   "source": [
    "# save pca model\n",
    "with open('../data/pca_std.pckl', 'wb') as handle:\n",
    "                    pickle.dump(pca, handle, protocol=pickle.HIGHEST_PROTOCOL)"
   ]
  },
  {
   "cell_type": "code",
   "execution_count": 43,
   "metadata": {},
   "outputs": [],
   "source": [
    "pca_merged = pca.transform(merged)"
   ]
  },
  {
   "cell_type": "code",
   "execution_count": 57,
   "metadata": {},
   "outputs": [
    {
     "data": {
      "text/plain": [
       "(31325, 1861)"
      ]
     },
     "execution_count": 57,
     "metadata": {},
     "output_type": "execute_result"
    }
   ],
   "source": [
    "pca_merged.shape"
   ]
  },
  {
   "cell_type": "code",
   "execution_count": 58,
   "metadata": {},
   "outputs": [],
   "source": [
    "np.savetxt('../data/merged_color_hog_pca_std.csv', pca_merged, delimiter=',')"
   ]
  }
 ],
 "metadata": {
  "kernelspec": {
   "display_name": "Python 3",
   "language": "python",
   "name": "python3"
  },
  "language_info": {
   "codemirror_mode": {
    "name": "ipython",
    "version": 3
   },
   "file_extension": ".py",
   "mimetype": "text/x-python",
   "name": "python",
   "nbconvert_exporter": "python",
   "pygments_lexer": "ipython3",
   "version": "3.8.6"
  }
 },
 "nbformat": 4,
 "nbformat_minor": 4
}
