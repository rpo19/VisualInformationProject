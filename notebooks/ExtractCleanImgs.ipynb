{
 "cells": [
  {
   "cell_type": "code",
   "execution_count": 7,
   "metadata": {},
   "outputs": [],
   "source": [
    "import os\n",
    "import numpy as np\n",
    "import pandas as pd\n",
    "import cv2\n",
    "import matplotlib.pyplot as plt\n"
   ]
  },
  {
   "cell_type": "code",
   "execution_count": 62,
   "metadata": {},
   "outputs": [],
   "source": [
    "path = '../data/train/'\n",
    "img = 0\n",
    "imgs = []\n",
    "for i in range(1, 15299):\n",
    "    filename = str(i) + '.jpg'\n",
    "    img = cv2.imread(path + filename, cv2.IMREAD_GRAYSCALE)\n",
    "    img_resized = cv2.resize(img, (200,200))\n",
    "    size = len(img_resized)\n",
    "#     margin = 1\n",
    "#     top_border = img_resized[0:margin,:]\n",
    "#     bottom_border = img_resized[size-margin:size,:]\n",
    "#     left_border = img_resized[:,0:margin]\n",
    "#     right_border = img_resized[:,size-margin:size]\n",
    "#     uniform_bg = np.array_equal(top_border,bottom_border) & np.array_equal(left_border,right_border) & np.array_equal(np.transpose(left_border),top_border)\n",
    "    margin = 2\n",
    "    top_left = img_resized[0:margin,0:margin]\n",
    "    bottom_right = img_resized[size-margin:size,size-margin:size]\n",
    "    top_right = img_resized[0:margin,size-margin:size]\n",
    "    bottom_left = img_resized[size-margin:size,0:margin]\n",
    "    uniform_bg = np.array_equal(top_left,bottom_left) & np.array_equal(top_right,bottom_right) & np.array_equal(top_right,top_left)\n",
    "    if uniform_bg:\n",
    "        imgs.append(filename)\n",
    "        "
   ]
  },
  {
   "cell_type": "code",
   "execution_count": 63,
   "metadata": {},
   "outputs": [],
   "source": [
    "df_imgs = pd.DataFrame(imgs, columns=['fname'])"
   ]
  },
  {
   "cell_type": "code",
   "execution_count": 64,
   "metadata": {},
   "outputs": [
    {
     "data": {
      "text/plain": [
       "902"
      ]
     },
     "execution_count": 64,
     "metadata": {},
     "output_type": "execute_result"
    }
   ],
   "source": [
    "len(df_imgs)"
   ]
  },
  {
   "cell_type": "code",
   "execution_count": 61,
   "metadata": {},
   "outputs": [],
   "source": [
    "df_imgs.to_csv('../data/uniform_bg.csv', index=False)"
   ]
  },
  {
   "cell_type": "code",
   "execution_count": null,
   "metadata": {},
   "outputs": [],
   "source": []
  }
 ],
 "metadata": {
  "kernelspec": {
   "display_name": "Python 3",
   "language": "python",
   "name": "python3"
  },
  "language_info": {
   "codemirror_mode": {
    "name": "ipython",
    "version": 3
   },
   "file_extension": ".py",
   "mimetype": "text/x-python",
   "name": "python",
   "nbconvert_exporter": "python",
   "pygments_lexer": "ipython3",
   "version": "3.8.6"
  }
 },
 "nbformat": 4,
 "nbformat_minor": 4
}
