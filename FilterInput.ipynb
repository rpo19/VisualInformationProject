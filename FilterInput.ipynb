{
 "cells": [
  {
   "cell_type": "code",
   "execution_count": 1,
   "metadata": {},
   "outputs": [],
   "source": [
    "import os\n",
    "import numpy as np\n",
    "import pandas as pd\n",
    "import cv2\n",
    "import matplotlib.pyplot as plt\n",
    "from PIL import Image, ImageEnhance\n"
   ]
  },
  {
   "cell_type": "markdown",
   "metadata": {},
   "source": [
    "# Check validity"
   ]
  },
  {
   "cell_type": "code",
   "execution_count": 2,
   "metadata": {},
   "outputs": [],
   "source": [
    "def is_blurred(img_path, threshold = 50):\n",
    "    # show img\n",
    "    img = cv2.imread(img_path, cv2.IMREAD_COLOR)\n",
    "    img_rgb = cv2.cvtColor(img, cv2.COLOR_BGR2RGB)\n",
    "    plt.imshow(img_rgb)\n",
    "    plt.show()\n",
    "    # compute laplacian variance\n",
    "    img_gray = cv2.cvtColor(img, cv2.COLOR_BGR2GRAY)\n",
    "    # TODO: valutare parametri\n",
    "    laplacian_var = cv2.Laplacian(img_gray, cv2.CV_64F).var()\n",
    "    print('Sharpeness:', round(laplacian_var, 5))\n",
    "    return laplacian_var < threshold"
   ]
  },
  {
   "cell_type": "code",
   "execution_count": 3,
   "metadata": {},
   "outputs": [],
   "source": [
    "def is_dark(img_path, threshold = 50):\n",
    "    # show image\n",
    "    img = cv2.imread(img_path, cv2.IMREAD_COLOR)\n",
    "    img_rgb = cv2.cvtColor(img, cv2.COLOR_BGR2RGB)\n",
    "    plt.imshow(img_rgb)\n",
    "    plt.show()\n",
    "    # get brightness from HSV\n",
    "    img_hsv = cv2.cvtColor(img, cv2.COLOR_BGR2HSV)\n",
    "    brightness = img_hsv[...,2].mean()\n",
    "    print('Brightness:', round(brightness, 5))\n",
    "    return brightness < threshold"
   ]
  },
  {
   "cell_type": "code",
   "execution_count": 7,
   "metadata": {},
   "outputs": [],
   "source": [
    "def has_uniform_bg(img_path, threshold=20):\n",
    "    img = cv2.imread(img_path, cv2.IMREAD_GRAYSCALE)\n",
    "    img_resized = cv2.resize(img, (250,250))\n",
    "    img_resized = cv2.bilateralFilter(img_resized,45,200,40, cv2.BORDER_REFLECT)\n",
    "    # extract stripes\n",
    "    size = len(img_resized)\n",
    "    margin = 3\n",
    "    top_border = img_resized[0:margin,:]\n",
    "    bottom_border = img_resized[size-margin:size,:]\n",
    "    left_border = img_resized[:,0:margin]\n",
    "    right_border = img_resized[:,size-margin:size]\n",
    "    # concatenate stripes\n",
    "    concatenated = np.concatenate([top_border, bottom_border, np.transpose(left_border), np.transpose(right_border)])\n",
    "    # compute std\n",
    "    std = concatenated.std()\n",
    "    print('std', std)\n",
    "    return std < threshold\n",
    "    "
   ]
  },
  {
   "cell_type": "code",
   "execution_count": 148,
   "metadata": {},
   "outputs": [],
   "source": [
    "def has_clear_margins(img_path, margin = 1):\n",
    "    img = cv2.imread(img_path)\n",
    "    # TODO: ragionare resize\n",
    "    img_resized = cv2.resize(img, (250,250))\n",
    "    img_resized = cv2.bilateralFilter(img_resized,45,200,40, cv2.BORDER_REFLECT)\n",
    "    # extract stripes\n",
    "    size = len(img_resized)\n",
    "    top_border = img_resized[0:margin,:]\n",
    "    bottom_border = img_resized[size-margin:size,:]\n",
    "    left_border = img_resized[:,0:margin]\n",
    "    right_border = img_resized[:,size-margin:size]\n",
    "    # check edges presence in the borders\n",
    "    top_canny = cv2.Canny(top_border, 100,  150) \n",
    "    bottom_canny = cv2.Canny(bottom_border, 100,  150) \n",
    "    left_canny = cv2.Canny(left_border, 100,  150) \n",
    "    right_canny = cv2.Canny(right_border, 100,  150)\n",
    "    concatenated = np.concatenate([top_canny, bottom_canny, np.transpose(left_canny), np.transpose(right_canny)])\n",
    "    # edges pixels are represented as 255 in canny, while the non-edges are 0\n",
    "    return concatenated.max() == 0"
   ]
  },
  {
   "cell_type": "code",
   "execution_count": null,
   "metadata": {},
   "outputs": [],
   "source": []
  },
  {
   "cell_type": "code",
   "execution_count": 155,
   "metadata": {},
   "outputs": [
    {
     "data": {
      "text/plain": [
       "True"
      ]
     },
     "execution_count": 155,
     "metadata": {},
     "output_type": "execute_result"
    }
   ],
   "source": [
    "img_path = '../test_imgs/not_blurred_2.jpg'\n",
    "has_clear_margins(img_path, 1)\n"
   ]
  },
  {
   "cell_type": "code",
   "execution_count": 116,
   "metadata": {},
   "outputs": [
    {
     "data": {
      "text/plain": [
       "<matplotlib.image.AxesImage at 0x1afe6b50850>"
      ]
     },
     "execution_count": 116,
     "metadata": {},
     "output_type": "execute_result"
    },
    {
     "data": {
      "image/png": "[encoded data removed]",
      "text/plain": [
       "<Figure size 432x288 with 1 Axes>"
      ]
     },
     "metadata": {
      "needs_background": "light"
     },
     "output_type": "display_data"
    }
   ],
   "source": [
    "canny = canny = cv2.Canny(img, 100,  150) \n",
    "plt.imshow(canny, cmap='gray')"
   ]
  },
  {
   "cell_type": "code",
   "execution_count": 117,
   "metadata": {},
   "outputs": [
    {
     "data": {
      "text/plain": [
       "True"
      ]
     },
     "execution_count": 117,
     "metadata": {},
     "output_type": "execute_result"
    }
   ],
   "source": [
    "canny.max() == 0"
   ]
  },
  {
   "cell_type": "code",
   "execution_count": null,
   "metadata": {},
   "outputs": [],
   "source": []
  }
 ],
 "metadata": {
  "kernelspec": {
   "display_name": "Python 3",
   "language": "python",
   "name": "python3"
  },
  "language_info": {
   "codemirror_mode": {
    "name": "ipython",
    "version": 3
   },
   "file_extension": ".py",
   "mimetype": "text/x-python",
   "name": "python",
   "nbconvert_exporter": "python",
   "pygments_lexer": "ipython3",
   "version": "3.8.6"
  }
 },
 "nbformat": 4,
 "nbformat_minor": 4
}
