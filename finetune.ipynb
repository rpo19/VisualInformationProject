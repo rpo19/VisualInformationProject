{
 "cells": [
  {
   "cell_type": "markdown",
   "metadata": {
    "id": "ujv4FCdv8LVK"
   },
   "source": [
    "## Imports"
   ]
  },
  {
   "cell_type": "code",
   "execution_count": null,
   "metadata": {
    "id": "GHVJ1vINGF4z"
   },
   "outputs": [],
   "source": [
    "import pandas as pd\n",
    "import matplotlib\n",
    "import matplotlib.pyplot as plt\n",
    "import matplotlib.image as image\n",
    "import os\n",
    "import shutil\n",
    "import glob\n",
    "import random\n",
    "import re\n",
    "import tensorflow as tf\n",
    "import numpy as np\n",
    "import json\n",
    "import time\n",
    "import sklearn.model_selection\n",
    "import sklearn.metrics\n",
    "import datetime"
   ]
  },
  {
   "cell_type": "code",
   "execution_count": null,
   "metadata": {
    "id": "WT-03nsRrBLr"
   },
   "outputs": [],
   "source": [
    "# run os.path.join over all elements of folderList\n",
    "def join_all(*folderList):\n",
    "  finalPath = folderList[0]\n",
    "  for i in range(1,len(folderList)):\n",
    "    finalPath = os.path.join(finalPath, folderList[i])\n",
    "  return finalPath"
   ]
  },
  {
   "cell_type": "markdown",
   "metadata": {
    "id": "HOZz7Viv8N25"
   },
   "source": [
    "## Colab"
   ]
  },
  {
   "cell_type": "code",
   "execution_count": null,
   "metadata": {
    "colab": {
     "base_uri": "https://localhost:8080/",
     "height": 35
    },
    "id": "-cT_1Qt1GSAN",
    "outputId": "ceb860d5-e5af-4bc2-beab-1a1e8de7e10f"
   },
   "outputs": [],
   "source": [
    "RunningInCOLAB = 'google.colab' in str(get_ipython())\n",
    "\n",
    "# check if in colab\n",
    "if RunningInCOLAB and not os.path.isdir('/content/gdrive'):\n",
    "    print(\"Running in colab\")\n",
    "    from google.colab import drive\n",
    "    drive.mount('/content/gdrive', force_remount=True)\n",
    "    colab_root = '/content/drive'\n",
    "      \n",
    "if RunningInCOLAB:\n",
    "    root_dir = \"/content/gdrive/My Drive/\"\n",
    "    base_dir = root_dir + 'visual-proh/'\n",
    "    if not os.path.isdir(base_dir):\n",
    "        os.mkdir(base_dir)\n",
    "else:\n",
    "    root_dir= os.getcwd()\n",
    "    base_dir = root_dir\n",
    "\n",
    "os.chdir(base_dir)\n",
    "\n",
    "os.getcwd()"
   ]
  },
  {
   "cell_type": "markdown",
   "metadata": {
    "id": "ord_HxMS8aAL"
   },
   "source": [
    "## Preprocess"
   ]
  },
  {
   "cell_type": "code",
   "execution_count": null,
   "metadata": {
    "colab": {
     "base_uri": "https://localhost:8080/",
     "height": 35
    },
    "id": "T4lQ6WNIGHfs",
    "outputId": "41df1d13-3ae6-4c8b-9f17-f3a697e773f3"
   },
   "outputs": [],
   "source": [
    "im_path = join_all('data', 'train')\n",
    "im_path"
   ]
  },
  {
   "cell_type": "code",
   "execution_count": null,
   "metadata": {
    "id": "UNacLG-8GsKc"
   },
   "outputs": [],
   "source": [
    "if not os.path.isdir(im_path):\n",
    "  os.mkdir(im_path)"
   ]
  },
  {
   "cell_type": "code",
   "execution_count": null,
   "metadata": {
    "colab": {
     "base_uri": "https://localhost:8080/"
    },
    "id": "WyVwhaduG0sv",
    "outputId": "0a071705-3e8f-4b62-b3cb-310d6f0c9bb0"
   },
   "outputs": [],
   "source": [
    "os.listdir(im_path)[0:20]"
   ]
  },
  {
   "cell_type": "code",
   "execution_count": null,
   "metadata": {
    "colab": {
     "base_uri": "https://localhost:8080/"
    },
    "id": "DyIRl7PJqR4T",
    "outputId": "71ba185f-9256-4cc3-b729-2a97d38fc02a"
   },
   "outputs": [],
   "source": [
    "classes = [f for f in os.listdir(im_path) if os.path.isdir(os.path.join(im_path, f))]\n",
    "classes"
   ]
  },
  {
   "cell_type": "code",
   "execution_count": null,
   "metadata": {
    "colab": {
     "base_uri": "https://localhost:8080/"
    },
    "id": "awgSX_Q7t5-y",
    "outputId": "344ef19d-7fb1-4e7c-e11f-447472e6c081"
   },
   "outputs": [],
   "source": [
    "def getDataFromScratch():\n",
    "  #files count\n",
    "  train_files_count = 0\n",
    "  for c in classes:\n",
    "    train_files_count += len(glob.glob(join_all(im_path, c, '*.jpg')))\n",
    "\n",
    "  print(\"Files number #\", train_files_count)\n",
    "\n",
    "  filtered_df = pd.DataFrame(index=range(train_files_count), columns=['class','path'])\n",
    "  fill_index = 0\n",
    "  for c in classes:\n",
    "    img_files = glob.glob(join_all(im_path, c, '*.jpg'))\n",
    "\n",
    "    filtered_df.loc[fill_index:fill_index+len(img_files)-1, \"path\"] = img_files\n",
    "    filtered_df.loc[fill_index:fill_index+len(img_files)-1, \"class\"] = c\n",
    "    \n",
    "    fill_index += len(img_files)\n",
    "\n",
    "  filtered_df.tail()\n",
    "\n",
    "  # one hot encoding classes\n",
    "  for current_class in classes:\n",
    "      filtered_df[current_class] = (filtered_df[\"class\"] == current_class).astype('int32')\n",
    "  filtered_df.head()"
   ]
  },
  {
   "cell_type": "markdown",
   "metadata": {
    "id": "xFGjc6IU8hsj"
   },
   "source": [
    "## Load preprocessed csv"
   ]
  },
  {
   "cell_type": "code",
   "execution_count": null,
   "metadata": {
    "colab": {
     "base_uri": "https://localhost:8080/",
     "height": 238
    },
    "id": "dY0qxxGvGF5G",
    "outputId": "ddb6579e-f7ad-478b-abe0-8f5f72eeda6b"
   },
   "outputs": [],
   "source": [
    "df_csv_name = 'filtered_df_v2.csv'\n",
    "if 'filtered_df' not in globals():\n",
    "  if os.path.isfile(df_csv_name):\n",
    "    print(\"Loading from file...\")\n",
    "    filtered_df = pd.read_csv(df_csv_name, index_col=0)\n",
    "  else:\n",
    "    print(\"Cannot find file to load.\\nGetting data from scratch...\")\n",
    "    filtered_df = getDataFromScratch()\n",
    "\n",
    "    print(\"Saving to file...\")\n",
    "    filtered_df.to_csv(df_csv_name)\n",
    "\n",
    "filtered_df.head()"
   ]
  },
  {
   "cell_type": "markdown",
   "metadata": {
    "id": "HqGve4dw8yhw"
   },
   "source": [
    "## Train test split"
   ]
  },
  {
   "cell_type": "code",
   "execution_count": null,
   "metadata": {
    "id": "m64dCzWUVMPn"
   },
   "outputs": [],
   "source": [
    "test_size = 0.2\n",
    "validation_size = 0.15\n",
    "random_state = 1000"
   ]
  },
  {
   "cell_type": "code",
   "execution_count": null,
   "metadata": {
    "id": "v8pIi5qiGF5I"
   },
   "outputs": [],
   "source": [
    "train_val_df, test_df = sklearn.model_selection.train_test_split(\n",
    "    filtered_df, test_size=test_size, random_state=random_state)"
   ]
  },
  {
   "cell_type": "code",
   "execution_count": null,
   "metadata": {
    "id": "z81xKYoqVIje"
   },
   "outputs": [],
   "source": [
    "train_df, validation_df = sklearn.model_selection.train_test_split(\n",
    "    train_val_df, test_size=validation_size, random_state=random_state)"
   ]
  },
  {
   "cell_type": "code",
   "execution_count": null,
   "metadata": {
    "colab": {
     "base_uri": "https://localhost:8080/"
    },
    "id": "BV7El72rGF5J",
    "outputId": "2e943fd1-af9a-480e-c3d0-d4438de0ec9f"
   },
   "outputs": [],
   "source": [
    "print(\"Train shape\", train_df.shape)\n",
    "print(\"Validation shape\", validation_df.shape)\n",
    "print(\"Test shape\", test_df.shape)"
   ]
  },
  {
   "cell_type": "markdown",
   "metadata": {
    "id": "cmZt3zyV8-qO"
   },
   "source": [
    "## Create training batches"
   ]
  },
  {
   "cell_type": "code",
   "execution_count": null,
   "metadata": {
    "id": "cJnnTC8z89qK"
   },
   "outputs": [],
   "source": [
    "# number of batches\n",
    "# maybe create it so that every batch contains up to N images\n",
    "# divide_into = 4\n",
    "# index of batch to choose\n",
    "#batch_idx = 0"
   ]
  },
  {
   "cell_type": "code",
   "execution_count": null,
   "metadata": {
    "id": "umyEjIh49Vi0"
   },
   "outputs": [],
   "source": [
    "# def get_batch_idxs(df, divide_into=10):\n",
    "#   start_idxs = list(range(0, df.shape[0], int(df.shape[0] / divide_into)))[0:divide_into]\n",
    "#   start_idxs.append(df.shape[0])\n",
    "\n",
    "#   batches = [(start_idxs[i], start_idxs[i+1]) for i in range(0,len(start_idxs)-1)]\n",
    "\n",
    "#   return [(i,b) for i,b in enumerate(batches)]"
   ]
  },
  {
   "cell_type": "code",
   "execution_count": null,
   "metadata": {
    "id": "mArkTKOr9_y2"
   },
   "outputs": [],
   "source": [
    "# train_batch_idxs = get_batch_idxs(train_val_df, divide_into=divide_into)"
   ]
  },
  {
   "cell_type": "code",
   "execution_count": null,
   "metadata": {
    "colab": {
     "base_uri": "https://localhost:8080/"
    },
    "id": "aUMhpX3J-Oqu",
    "outputId": "2fa79445-4e7b-4cff-ebca-f85b0e77ec63"
   },
   "outputs": [],
   "source": [
    "#chosen_batch = train_batch_idxs[batch_idx][1]\n",
    "#chosen_batch"
   ]
  },
  {
   "cell_type": "code",
   "execution_count": null,
   "metadata": {
    "colab": {
     "base_uri": "https://localhost:8080/"
    },
    "id": "GU9Wby8f-cU_",
    "outputId": "8ff2f671-e9cb-407a-fc51-0a61f3f31f41"
   },
   "outputs": [],
   "source": [
    "#print(\"Total shape\", train_val_df.shape)\n",
    "#batched_train_val_df = train_val_df[chosen_batch[0]:chosen_batch[1]]\n",
    "#print(\"Batch shape\", batched_train_val_df.shape)"
   ]
  },
  {
   "cell_type": "code",
   "execution_count": null,
   "metadata": {
    "id": "X4TXUyAFGF5I"
   },
   "outputs": [],
   "source": [
    "#train_df, validation_df = sklearn.model_selection.train_test_split(batched_train_val_df, test_size=0.15, random_state=1000)\n",
    "#del batched_train_val_df"
   ]
  },
  {
   "cell_type": "markdown",
   "metadata": {
    "id": "qQ9baHJI81xE"
   },
   "source": [
    "## Load train images"
   ]
  },
  {
   "cell_type": "code",
   "execution_count": null,
   "metadata": {
    "id": "lMzXUWejGF5J"
   },
   "outputs": [],
   "source": [
    "def loadImages(pathlist, basedir='.'):\n",
    "    size = len(pathlist)\n",
    "\n",
    "    batcharr = np.zeros(shape=(size, 300, 300, 3))\n",
    "\n",
    "    for i in range(0,size):\n",
    "\n",
    "        img_path = os.path.join(basedir, pathlist[i])\n",
    "\n",
    "        im = tf.keras.preprocessing.image.load_img(\n",
    "            img_path,\n",
    "            target_size=(300, 300, 3)\n",
    "        )\n",
    "        imarr = tf.keras.preprocessing.image.img_to_array(im)\n",
    "        imarr = tf.keras.applications.efficientnet.preprocess_input(imarr)\n",
    "\n",
    "        batcharr[i] = imarr\n",
    "\n",
    "        print(f'\\r{i+1}/{size}', end='')\n",
    "\n",
    "    return batcharr"
   ]
  },
  {
   "cell_type": "code",
   "execution_count": null,
   "metadata": {
    "colab": {
     "base_uri": "https://localhost:8080/"
    },
    "id": "ntpPFzKXGF5K",
    "outputId": "832e9c64-bc18-441c-f3a7-8284111dc621"
   },
   "outputs": [],
   "source": [
    "#imgs_loaded = loadImages(train_df[\"path\"].values)"
   ]
  },
  {
   "cell_type": "code",
   "execution_count": null,
   "metadata": {
    "colab": {
     "base_uri": "https://localhost:8080/"
    },
    "id": "tKzV4mECGF5L",
    "outputId": "3aa53e84-1ea8-45ca-89d7-a813c9458d26"
   },
   "outputs": [],
   "source": [
    "#imgs_loaded_validation = loadImages(validation_df[\"path\"].values)"
   ]
  },
  {
   "cell_type": "code",
   "execution_count": null,
   "metadata": {
    "id": "6N-89BqpGF5L"
   },
   "outputs": [],
   "source": [
    "#validation_y = validation_df[classes].values"
   ]
  },
  {
   "cell_type": "code",
   "execution_count": null,
   "metadata": {
    "id": "kgkgjNaiGF5L"
   },
   "outputs": [],
   "source": [
    "#train_y = train_df[classes].values"
   ]
  },
  {
   "cell_type": "code",
   "execution_count": null,
   "metadata": {
    "colab": {
     "base_uri": "https://localhost:8080/"
    },
    "id": "5CmWINpNIZ-X",
    "outputId": "f1bf5d73-d845-4452-e636-6a9bf07084bc"
   },
   "outputs": [],
   "source": [
    "#train_y.shape"
   ]
  },
  {
   "cell_type": "markdown",
   "metadata": {
    "id": "omfrksXa_ATV"
   },
   "source": [
    "## Model"
   ]
  },
  {
   "cell_type": "code",
   "execution_count": null,
   "metadata": {
    "id": "LJ07ZZcIGF5A"
   },
   "outputs": [],
   "source": [
    "def getModel(num_classes, dropout_lvl = 0.2, input_shape=(300, 300, 3)):\n",
    "    basemodel = efb3 = tf.keras.applications.EfficientNetB3(\n",
    "        weights=\"imagenet\",\n",
    "        include_top=False\n",
    "    )\n",
    "    basemodel.trainable = False\n",
    "\n",
    "    inputs = tf.keras.layers.Input(shape=input_shape)\n",
    "    \n",
    "    x = basemodel(inputs)\n",
    "\n",
    "    features = tf.keras.layers.GlobalAveragePooling2D(name='features')(x)\n",
    "\n",
    "    y = tf.keras.layers.Dropout(dropout_lvl)(features)\n",
    "\n",
    "    results = tf.keras.layers.Dense(num_classes, activation='softmax', name='results')(y)\n",
    "    \n",
    "    model = tf.keras.Model(inputs=inputs, outputs=[results,features])\n",
    "\n",
    "    return model"
   ]
  },
  {
   "cell_type": "code",
   "execution_count": null,
   "metadata": {
    "colab": {
     "base_uri": "https://localhost:8080/"
    },
    "id": "jNj5X05qGF5A",
    "outputId": "d85fe38e-bea9-4ddc-b385-5efec4449e01",
    "tags": []
   },
   "outputs": [],
   "source": [
    "mymodel = getModel(len(classes))\n",
    "mymodel.summary()"
   ]
  },
  {
   "cell_type": "code",
   "execution_count": null,
   "metadata": {
    "id": "nNnkD3kQGF5C"
   },
   "outputs": [],
   "source": [
    "mymodel.compile(optimizer='adam',\n",
    "                loss = {\n",
    "                    'results': 'categorical_crossentropy',\n",
    "                    'features': None\n",
    "                    },\n",
    "                metrics = {\n",
    "                    'results': 'accuracy',\n",
    "                    'features': None\n",
    "                    }\n",
    "                )"
   ]
  },
  {
   "cell_type": "markdown",
   "metadata": {
    "id": "FEl5yh-yO9Vo"
   },
   "source": [
    "## Train and Validation"
   ]
  },
  {
   "cell_type": "code",
   "execution_count": null,
   "metadata": {
    "id": "KwDXARkJXnyc"
   },
   "outputs": [],
   "source": [
    "epochs_per_batch = 25\n",
    "batch_size = 32\n",
    "classes = classes\n",
    "patience = 5\n",
    "\n",
    "# number of batches\n",
    "n_batches = 4"
   ]
  },
  {
   "cell_type": "code",
   "execution_count": null,
   "metadata": {
    "id": "2mPSAusbZElE"
   },
   "outputs": [],
   "source": [
    "def get_batch_idxs(df, divide_into):\n",
    "  start_idxs = list(range(0, df.shape[0], int(df.shape[0] / divide_into)))[0:divide_into]\n",
    "  start_idxs.append(df.shape[0])\n",
    "\n",
    "  batches = [(start_idxs[i], start_idxs[i+1]) for i in range(0,len(start_idxs)-1)]\n",
    "\n",
    "  return [(i,b) for i,b in enumerate(batches)]"
   ]
  },
  {
   "cell_type": "code",
   "execution_count": null,
   "metadata": {
    "id": "RAJQpIE8ZElm"
   },
   "outputs": [],
   "source": [
    "train_batch_idxs = get_batch_idxs(train_val_df, divide_into=divide_into)"
   ]
  },
  {
   "cell_type": "code",
   "execution_count": null,
   "metadata": {
    "id": "z5a0cLOJ5ilu"
   },
   "outputs": [],
   "source": [
    "callbacks = [\n",
    "             tf.keras.callbacks.EarlyStopping(\n",
    "                  monitor='val_loss',\n",
    "                  patience=patience,\n",
    "                  restore_best_weights=True\n",
    "                  )\n",
    "             ]"
   ]
  },
  {
   "cell_type": "code",
   "execution_count": null,
   "metadata": {
    "colab": {
     "base_uri": "https://localhost:8080/"
    },
    "id": "1lR_-ss1V0nh",
    "outputId": "eb7c90fa-43e1-4047-ffff-b4a0a23b878d"
   },
   "outputs": [],
   "source": [
    "print(\"Loading validation images...\")\n",
    "validation_imgs = loadImages(validation_df[\"path\"].values)\n",
    "print()\n",
    "\n",
    "validation_y = validation_df[classes].values"
   ]
  },
  {
   "cell_type": "code",
   "execution_count": null,
   "metadata": {
    "colab": {
     "base_uri": "https://localhost:8080/"
    },
    "id": "pQyVBam9QmWe",
    "outputId": "914e7fee-d6ff-4a11-a77f-04e86babb24d"
   },
   "outputs": [],
   "source": [
    "hist_df = pd.DataFrame()\n",
    "\n",
    "for i, current_batch_idx in train_batch_idxs:\n",
    "  print(f\"Training opn batch {i+1}/{n_batches}...\")\n",
    "  # getting batch\n",
    "  # current_batch = train_val_df[current_batch_idx[0]:current_batch_idx[1]]\n",
    "  # train val split\n",
    "  # current_train_df, current_validation_df = sklearn.model_selection.train_test_split(\n",
    "  #     current_batch, test_size=validation_size, random_state=random_state)\n",
    "  # del current_batch\n",
    "\n",
    "  current_train_df = train_df[current_batch_idx[0]:current_batch_idx[1]]\n",
    "  print(\"Current train shape\", current_train_df.shape)\n",
    "\n",
    "  print(\"Loading train images...\")\n",
    "  current_train_imgs = loadImages(current_train_df[\"path\"].values)\n",
    "  print()\n",
    "\n",
    "  # print(\"Loading validation images...\")\n",
    "  # current_validation_imgs = loadImages(current_validation_df[\"path\"].values)\n",
    "  # print()\n",
    "\n",
    "  current_validation_imgs = validation_imgs\n",
    "\n",
    "  current_train_y = current_train_df[classes].values\n",
    "  current_validation_y = validation_y\n",
    "\n",
    "  temp_hist = mymodel.fit(current_train_imgs,\n",
    "                   {'results':current_train_y},\n",
    "                   epochs=epochs_per_batch,\n",
    "                   verbose=True,\n",
    "                   batch_size=batch_size,\n",
    "                   validation_data = (\n",
    "                       current_validation_imgs,\n",
    "                       {'results':current_validation_y}\n",
    "                       ),\n",
    "                   callbacks=callbacks)\n",
    "  \n",
    "  temp_df = pd.DataFrame(temp_hist.history)\n",
    "  last_epoch = temp_df.shape[0]\n",
    "  print(f\"Training for batch {i+1}/{n_batches} finished at epoch {last_epoch}/{epochs_per_batch}.\")\n",
    "  \n",
    "  hist_df = pd.concat([hist_df, temp_df])\n",
    "\n",
    "  print()\n",
    "  print()"
   ]
  },
  {
   "cell_type": "code",
   "execution_count": null,
   "metadata": {
    "id": "YC8Je14JYgyC"
   },
   "outputs": [],
   "source": [
    "hist_df.reset_index(drop=True, inplace=True)"
   ]
  },
  {
   "cell_type": "code",
   "execution_count": null,
   "metadata": {
    "id": "_PTMr1JqGF5M",
    "tags": []
   },
   "outputs": [],
   "source": [
    "# hist = mymodel.fit(imgs_loaded,\n",
    "#                    {'results':train_y},\n",
    "#                    epochs=25,\n",
    "#                    verbose=True,\n",
    "#                    batch_size=32,\n",
    "#                    validation_data = (\n",
    "#                        imgs_loaded_validation,\n",
    "#                        {'results':validation_y}\n",
    "#                        ),\n",
    "#                    callbacks=callbacks)"
   ]
  },
  {
   "cell_type": "code",
   "execution_count": null,
   "metadata": {
    "colab": {
     "base_uri": "https://localhost:8080/",
     "height": 282
    },
    "id": "f1srAOgmPRdd",
    "outputId": "641e1817-0799-43c7-a11f-34c9301aa8f7"
   },
   "outputs": [],
   "source": [
    "hist_df.plot(y=[\"loss\", \"val_loss\"])"
   ]
  },
  {
   "cell_type": "code",
   "execution_count": null,
   "metadata": {
    "colab": {
     "base_uri": "https://localhost:8080/",
     "height": 282
    },
    "id": "bdrL4th4PZQE",
    "outputId": "bc355291-fe35-4884-c099-ebb02ebd71c4"
   },
   "outputs": [],
   "source": [
    "hist_df.plot(y=[\"results_accuracy\", \"val_results_accuracy\"])"
   ]
  },
  {
   "cell_type": "markdown",
   "metadata": {
    "id": "-vE6yb6cPACZ"
   },
   "source": [
    "## Save model"
   ]
  },
  {
   "cell_type": "code",
   "execution_count": null,
   "metadata": {
    "colab": {
     "base_uri": "https://localhost:8080/"
    },
    "id": "5xlqDEzZGF5M",
    "outputId": "78f26991-e1cc-4129-e77d-abddbd803828"
   },
   "outputs": [],
   "source": [
    "nowtag = datetime.datetime.now().strftime(\"%y%m%d%H\")\n",
    "model_path = f'./mymodel{nowtag}.h5'\n",
    "if os.path.isfile(model_path):\n",
    "  print(f\"Model file {model_path} already exists.\\nDo you want to overwrite it? [y/n]\")\n",
    "  ans = input()\n",
    "  if ans == \"Y\":\n",
    "    print(\"overwriting...\")\n",
    "    mymodel.save(model_path)\n",
    "  else:\n",
    "    print(\"leaving current file untouched.\")\n",
    "else:\n",
    "  print(f\"Saving model to file {model_path}...\")\n",
    "  mymodel.save(model_path)"
   ]
  },
  {
   "cell_type": "markdown",
   "metadata": {
    "id": "rAal4dMbPBhK"
   },
   "source": [
    "## Test evaluation"
   ]
  },
  {
   "cell_type": "code",
   "execution_count": null,
   "metadata": {
    "colab": {
     "base_uri": "https://localhost:8080/"
    },
    "id": "u-4sm1cMKYLq",
    "outputId": "5a38b6c2-9f99-4f33-a4d2-3676f79205ab"
   },
   "outputs": [],
   "source": [
    "imgs_loaded_test = loadImages(test_df[\"path\"].values)"
   ]
  },
  {
   "cell_type": "code",
   "execution_count": null,
   "metadata": {
    "id": "IxQCCFX2KefB"
   },
   "outputs": [],
   "source": [
    "test_y = test_df[classes].values"
   ]
  },
  {
   "cell_type": "code",
   "execution_count": null,
   "metadata": {
    "id": "UdykKQr7KOUW"
   },
   "outputs": [],
   "source": [
    "test_y_pred, test_features = mymodel.predict(imgs_loaded_test)"
   ]
  },
  {
   "cell_type": "code",
   "execution_count": null,
   "metadata": {
    "id": "kHNirfK8KmQI"
   },
   "outputs": [],
   "source": [
    "test_y_pred_df = pd.DataFrame(test_y_pred, columns=classes)"
   ]
  },
  {
   "cell_type": "code",
   "execution_count": null,
   "metadata": {
    "id": "MN8JLv24Mgux"
   },
   "outputs": [],
   "source": [
    "unknown = 'unknown'\n",
    "# handles unknown\n",
    "def softmax2class(softmax, classes, threshold=0.5, unknown='unknown'):\n",
    "  max = softmax.max()\n",
    "  if max >= threshold:\n",
    "    argmax = softmax.argmax()\n",
    "    return classes[argmax]\n",
    "  else:\n",
    "    return unknown"
   ]
  },
  {
   "cell_type": "code",
   "execution_count": null,
   "metadata": {
    "colab": {
     "base_uri": "https://localhost:8080/",
     "height": 304
    },
    "id": "hk3toWL5LQt0",
    "outputId": "939ee90d-1879-4fc5-c417-0e3726ea7eb2"
   },
   "outputs": [],
   "source": [
    "threshold = 0.4\n",
    "test_y_pred_df[\"class\"] = test_y_pred_df[classes].apply(\n",
    "    lambda x: softmax2class(x, classes, threshold=threshold, unknown=unknown), axis=1)\n",
    "test_y_pred_df.head()"
   ]
  },
  {
   "cell_type": "code",
   "execution_count": null,
   "metadata": {
    "colab": {
     "base_uri": "https://localhost:8080/",
     "height": 374
    },
    "id": "GL-iXIfuLnrt",
    "outputId": "abc02b9a-4168-45d3-b292-0887ca2b28ca"
   },
   "outputs": [],
   "source": [
    "test_cm = pd.DataFrame(\n",
    "            sklearn.metrics.confusion_matrix(\n",
    "                test_df[\"class\"],\n",
    "                test_y_pred_df[\"class\"],\n",
    "                labels=classes+[unknown]\n",
    "                ),\n",
    "            columns=classes+[unknown],\n",
    "            index=classes+[unknown]\n",
    "            )\n",
    "test_cm"
   ]
  },
  {
   "cell_type": "code",
   "execution_count": null,
   "metadata": {
    "colab": {
     "base_uri": "https://localhost:8080/",
     "height": 282
    },
    "id": "bi9yFbmMOFM3",
    "outputId": "ce38a4a7-282a-48f0-fd85-53c09052ceb9"
   },
   "outputs": [],
   "source": [
    "plt.imshow(test_cm)"
   ]
  },
  {
   "cell_type": "code",
   "execution_count": null,
   "metadata": {
    "colab": {
     "base_uri": "https://localhost:8080/"
    },
    "id": "wUeFj8noMJ-l",
    "outputId": "6ff2b0ea-bc25-48df-c960-8c7a47d1808c"
   },
   "outputs": [],
   "source": [
    "test_acc = sklearn.metrics.accuracy_score(test_df[\"class\"], test_y_pred_df[\"class\"])\n",
    "test_acc"
   ]
  },
  {
   "cell_type": "code",
   "execution_count": null,
   "metadata": {
    "id": "V7deajXJMlY6"
   },
   "outputs": [],
   "source": [
    "test_df.reset_index(drop=True, inplace=True)"
   ]
  },
  {
   "cell_type": "code",
   "execution_count": null,
   "metadata": {
    "id": "QfvSFJYEM66t"
   },
   "outputs": [],
   "source": [
    "test_df[\"pred_class\"] = test_y_pred_df[\"class\"]"
   ]
  },
  {
   "cell_type": "code",
   "execution_count": null,
   "metadata": {
    "colab": {
     "base_uri": "https://localhost:8080/"
    },
    "id": "2T4I96w_deDk",
    "outputId": "3faeb75c-c490-4236-fe23-43fe112926c4"
   },
   "outputs": [],
   "source": [
    "unknown_number = (test_df[\"pred_class\"] == unknown).sum()\n",
    "unknown_ratio = unknown_number / test_df.shape[0]\n",
    "\n",
    "print(f\"Unknowns number: {unknown_number}\")\n",
    "print(f\"Unknowns ratio: {unknown_ratio}\")"
   ]
  },
  {
   "cell_type": "code",
   "execution_count": null,
   "metadata": {
    "colab": {
     "base_uri": "https://localhost:8080/",
     "height": 201
    },
    "id": "KIwQfJ98Mddo",
    "outputId": "1d543e94-dece-40c9-c028-9c5706849438"
   },
   "outputs": [],
   "source": [
    "errors = test_df[test_df[\"class\"] != test_df[\"pred_class\"]]\n",
    "errors = errors.drop(columns=classes)\n",
    "errors.head()"
   ]
  },
  {
   "cell_type": "code",
   "execution_count": null,
   "metadata": {
    "colab": {
     "base_uri": "https://localhost:8080/"
    },
    "id": "Ic1Z-CCUgWJr",
    "outputId": "aef64145-5a41-41ba-b723-99d29c0bcd79"
   },
   "outputs": [],
   "source": [
    "test_y_pred_df.loc[24]"
   ]
  },
  {
   "cell_type": "code",
   "execution_count": null,
   "metadata": {
    "colab": {
     "base_uri": "https://localhost:8080/",
     "height": 286
    },
    "id": "keb0XBvENBaJ",
    "outputId": "4bcfad42-b1e3-4f53-9ce7-75dc0682a5a5"
   },
   "outputs": [],
   "source": [
    "im = image.imread(errors.iloc[0][\"path\"])\n",
    "plt.imshow(im)"
   ]
  },
  {
   "cell_type": "code",
   "execution_count": null,
   "metadata": {
    "id": "bvJvZqMEcd5U"
   },
   "outputs": [],
   "source": []
  }
 ],
 "metadata": {
  "accelerator": "GPU",
  "colab": {
   "collapsed_sections": [],
   "name": "finetunev2.ipynb",
   "provenance": [],
   "toc_visible": true
  },
  "kernelspec": {
   "display_name": "Python 3.8.5 64-bit ('venv': venv)",
   "name": "python_defaultSpec_1609333253733"
  },
  "language_info": {
   "codemirror_mode": {
    "name": "ipython",
    "version": 3
   },
   "file_extension": ".py",
   "mimetype": "text/x-python",
   "name": "python",
   "nbconvert_exporter": "python",
   "pygments_lexer": "ipython3",
   "version": "3.8.5-final"
  }
 },
 "nbformat": 4,
 "nbformat_minor": 0
}
