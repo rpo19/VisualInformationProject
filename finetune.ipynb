{
 "cells": [
  {
   "cell_type": "code",
   "execution_count": null,
   "metadata": {
    "id": "GHVJ1vINGF4z"
   },
   "outputs": [],
   "source": [
    "import pandas as pd\n",
    "import matplotlib\n",
    "import matplotlib.pyplot as plt\n",
    "import matplotlib.image as image\n",
    "import os\n",
    "import shutil\n",
    "import random\n",
    "import re\n",
    "import tensorflow as tf\n",
    "import numpy as np\n",
    "import json\n",
    "import time\n",
    "import sklearn.model_selection\n",
    "import sklearn.metrics"
   ]
  },
  {
   "cell_type": "code",
   "execution_count": null,
   "metadata": {
    "colab": {
     "base_uri": "https://localhost:8080/",
     "height": 69
    },
    "id": "-cT_1Qt1GSAN",
    "outputId": "4d08be63-dac7-4b6e-a114-7526bebe4cf3"
   },
   "outputs": [],
   "source": [
    "RunningInCOLAB = 'google.colab' in str(get_ipython())\n",
    "\n",
    "# check if in colab\n",
    "if RunningInCOLAB and not os.path.isdir('/content/gdrive'):\n",
    "    print(\"Running in colab\")\n",
    "    from google.colab import drive\n",
    "    drive.mount('/content/gdrive', force_remount=True)\n",
    "    colab_root = '/content/drive'\n",
    "      \n",
    "if RunningInCOLAB:\n",
    "    root_dir = \"/content/gdrive/My Drive/\"\n",
    "    base_dir = root_dir + 'visual-proh/'\n",
    "    if not os.path.isdir(base_dir):\n",
    "        os.mkdir(base_dir)\n",
    "else:\n",
    "    root_dir= os.getcwd()\n",
    "    base_dir = root_dir\n",
    "\n",
    "os.chdir(base_dir)\n",
    "\n",
    "os.getcwd()"
   ]
  },
  {
   "cell_type": "code",
   "execution_count": null,
   "metadata": {
    "id": "T4lQ6WNIGHfs"
   },
   "outputs": [],
   "source": [
    "im_path = 'filtered_train'"
   ]
  },
  {
   "cell_type": "code",
   "execution_count": null,
   "metadata": {
    "id": "UNacLG-8GsKc"
   },
   "outputs": [],
   "source": [
    "if not os.path.isdir(im_path):\n",
    "  os.mkdir(im_path)"
   ]
  },
  {
   "cell_type": "code",
   "execution_count": null,
   "metadata": {
    "colab": {
     "base_uri": "https://localhost:8080/"
    },
    "id": "WyVwhaduG0sv",
    "outputId": "5f3e2109-cbc1-4bc4-bd09-86d26ae5bb66"
   },
   "outputs": [],
   "source": [
    "os.listdir('filtered_train')[0:20]"
   ]
  },
  {
   "cell_type": "code",
   "execution_count": null,
   "metadata": {
    "id": "XYENgZK8GF4_"
   },
   "outputs": [],
   "source": [
    "classes = ['shoe','trousers','jacket','sweatshirt']"
   ]
  },
  {
   "cell_type": "code",
   "execution_count": null,
   "metadata": {
    "id": "LJ07ZZcIGF5A"
   },
   "outputs": [],
   "source": [
    "def getModel(num_classes):\n",
    "    basemodel = efb3 = tf.keras.applications.EfficientNetB3(\n",
    "        weights=\"imagenet\",\n",
    "        include_top=False\n",
    "    )\n",
    "    basemodel.trainable = False\n",
    "    model = tf.keras.models.Sequential()\n",
    "    model.add(basemodel)\n",
    "    model.add(tf.keras.layers.GlobalAveragePooling2D())\n",
    "    model.add(tf.keras.layers.Dropout(0.2))\n",
    "    model.add(tf.keras.layers.Dense(num_classes, activation='softmax'))\n",
    "\n",
    "    return model"
   ]
  },
  {
   "cell_type": "code",
   "execution_count": null,
   "metadata": {
    "colab": {
     "base_uri": "https://localhost:8080/"
    },
    "id": "jNj5X05qGF5A",
    "outputId": "82b4a685-e3bb-4e26-89bb-306de70e8981",
    "tags": []
   },
   "outputs": [],
   "source": [
    "mymodel = getModel(len(classes))\n",
    "mymodel.summary()"
   ]
  },
  {
   "cell_type": "code",
   "execution_count": null,
   "metadata": {
    "id": "nNnkD3kQGF5C"
   },
   "outputs": [],
   "source": [
    "mymodel.compile(optimizer='adam', loss='categorical_crossentropy', metrics=['accuracy'])"
   ]
  },
  {
   "cell_type": "code",
   "execution_count": null,
   "metadata": {
    "colab": {
     "base_uri": "https://localhost:8080/",
     "height": 201
    },
    "id": "dY0qxxGvGF5G",
    "outputId": "3d06fbe9-a440-4817-a3e1-461e74794412"
   },
   "outputs": [],
   "source": [
    "if os.path.isfile('filtered_df.csv'):\n",
    "    filtered_df = pd.read_csv('filtered_df.csv', index_col=0)\n",
    "filtered_df.head()"
   ]
  },
  {
   "cell_type": "code",
   "execution_count": null,
   "metadata": {
    "colab": {
     "base_uri": "https://localhost:8080/"
    },
    "id": "KU_XwB0jGF5H",
    "outputId": "cc706537-ebcc-42ea-9d5e-ec8968e807ba"
   },
   "outputs": [],
   "source": [
    "classes"
   ]
  },
  {
   "cell_type": "code",
   "execution_count": null,
   "metadata": {
    "id": "CbVgDoubGF5H"
   },
   "outputs": [],
   "source": [
    "for current_class in classes:\n",
    "    filtered_df[current_class] = (filtered_df[\"class\"] == current_class).astype('int32')\n",
    "filtered_df.head()"
   ]
  },
  {
   "cell_type": "code",
   "execution_count": null,
   "metadata": {
    "id": "v8pIi5qiGF5I"
   },
   "outputs": [],
   "source": [
    "train_df, test_df = sklearn.model_selection.train_test_split(filtered_df, test_size=0.2, random_state=1000)"
   ]
  },
  {
   "cell_type": "code",
   "execution_count": null,
   "metadata": {
    "id": "X4TXUyAFGF5I"
   },
   "outputs": [],
   "source": [
    "train_df, validation_df = sklearn.model_selection.train_test_split(train_df, test_size=0.15, random_state=1000)"
   ]
  },
  {
   "cell_type": "code",
   "execution_count": null,
   "metadata": {
    "colab": {
     "base_uri": "https://localhost:8080/",
     "height": 201
    },
    "id": "BV7El72rGF5J",
    "outputId": "3c641b2d-690f-46ba-e99a-85cb13c68062"
   },
   "outputs": [],
   "source": [
    "train_df.head()"
   ]
  },
  {
   "cell_type": "code",
   "execution_count": null,
   "metadata": {
    "id": "lMzXUWejGF5J"
   },
   "outputs": [],
   "source": [
    "def loadImages(pathlist, basedir='.'):\n",
    "    size = len(pathlist)\n",
    "\n",
    "    batcharr = np.zeros(shape=(size, 300, 300, 3))\n",
    "\n",
    "    for i in range(0,size):\n",
    "\n",
    "        img_path = os.path.join(basedir, pathlist[i])\n",
    "\n",
    "        im = tf.keras.preprocessing.image.load_img(\n",
    "            img_path,\n",
    "            target_size=(300, 300, 3)\n",
    "        )\n",
    "        imarr = tf.keras.preprocessing.image.img_to_array(im)\n",
    "        imarr = tf.keras.applications.efficientnet.preprocess_input(imarr)\n",
    "\n",
    "        batcharr[i] = imarr\n",
    "\n",
    "        print(f'\\r{i}/{size}', end='')\n",
    "\n",
    "    return batcharr"
   ]
  },
  {
   "cell_type": "code",
   "execution_count": null,
   "metadata": {
    "colab": {
     "base_uri": "https://localhost:8080/",
     "height": 35
    },
    "id": "SItiCHyVGF5K",
    "outputId": "e9dcebe3-0648-488e-f229-a0df96adf505"
   },
   "outputs": [],
   "source": [
    "train_df[\"fname\"].values[0]"
   ]
  },
  {
   "cell_type": "code",
   "execution_count": null,
   "metadata": {
    "colab": {
     "base_uri": "https://localhost:8080/"
    },
    "id": "ntpPFzKXGF5K",
    "outputId": "ac0f0d87-09c5-4376-be4c-9fb1e5db41af"
   },
   "outputs": [],
   "source": [
    "imgs_loaded = loadImages(train_df[\"fname\"].values, basedir=im_path)"
   ]
  },
  {
   "cell_type": "code",
   "execution_count": null,
   "metadata": {
    "colab": {
     "base_uri": "https://localhost:8080/"
    },
    "id": "tKzV4mECGF5L",
    "outputId": "d834eb31-4ab3-4c90-80d5-2d1fafc0b639"
   },
   "outputs": [],
   "source": [
    "imgs_loaded_validation = loadImages(validation_df[\"fname\"].values, basedir=im_path)"
   ]
  },
  {
   "cell_type": "code",
   "execution_count": null,
   "metadata": {
    "id": "6N-89BqpGF5L"
   },
   "outputs": [],
   "source": [
    "validation_y = validation_df[[\"shoe\", \"trousers\", \"jacket\", \"sweatshirt\"]].values"
   ]
  },
  {
   "cell_type": "code",
   "execution_count": null,
   "metadata": {
    "id": "kgkgjNaiGF5L"
   },
   "outputs": [],
   "source": [
    "train_y = train_df[[\"shoe\", \"trousers\", \"jacket\", \"sweatshirt\"]].values"
   ]
  },
  {
   "cell_type": "code",
   "execution_count": null,
   "metadata": {
    "colab": {
     "base_uri": "https://localhost:8080/"
    },
    "id": "_PTMr1JqGF5M",
    "outputId": "8cd6a8e6-e98e-4945-c56d-41ea34d7336a",
    "tags": []
   },
   "outputs": [],
   "source": [
    "hist = mymodel.fit(imgs_loaded, train_y, epochs=5, verbose=True, batch_size=32,\n",
    "                    validation_data=(imgs_loaded_validation, validation_y))"
   ]
  },
  {
   "cell_type": "code",
   "execution_count": null,
   "metadata": {
    "id": "5xlqDEzZGF5M"
   },
   "outputs": [],
   "source": [
    "mymodel.save('./mymodel.h5')"
   ]
  },
  {
   "cell_type": "code",
   "execution_count": null,
   "metadata": {
    "colab": {
     "base_uri": "https://localhost:8080/"
    },
    "id": "u-4sm1cMKYLq",
    "outputId": "1ca5dd56-0ce9-42f2-980e-f1dd1bfbfe35"
   },
   "outputs": [],
   "source": [
    "imgs_loaded_test = loadImages(test_df[\"fname\"].values, basedir=im_path)"
   ]
  },
  {
   "cell_type": "code",
   "execution_count": null,
   "metadata": {
    "id": "IxQCCFX2KefB"
   },
   "outputs": [],
   "source": [
    "test_y = test_df[[\"shoe\", \"trousers\", \"jacket\", \"sweatshirt\"]].values"
   ]
  },
  {
   "cell_type": "code",
   "execution_count": null,
   "metadata": {
    "id": "UdykKQr7KOUW"
   },
   "outputs": [],
   "source": [
    "test_y_pred = mymodel.predict(imgs_loaded_test)"
   ]
  },
  {
   "cell_type": "code",
   "execution_count": null,
   "metadata": {
    "colab": {
     "base_uri": "https://localhost:8080/"
    },
    "id": "j3-bGU74LHom",
    "outputId": "3ab24413-48d2-408f-e62d-e88ae2a13b43"
   },
   "outputs": [],
   "source": [
    "classes"
   ]
  },
  {
   "cell_type": "code",
   "execution_count": null,
   "metadata": {
    "id": "kHNirfK8KmQI"
   },
   "outputs": [],
   "source": [
    "test_y_pred_df = pd.DataFrame(test_y_pred, columns=classes)"
   ]
  },
  {
   "cell_type": "code",
   "execution_count": null,
   "metadata": {
    "colab": {
     "base_uri": "https://localhost:8080/",
     "height": 201
    },
    "id": "hk3toWL5LQt0",
    "outputId": "7d4457bf-0acf-423e-8b14-052b1947d937"
   },
   "outputs": [],
   "source": [
    "test_y_pred_df[\"class\"] = test_y_pred_df[classes].apply(lambda x: classes[x.argmax()], axis=1)\n",
    "test_y_pred_df.head()"
   ]
  },
  {
   "cell_type": "code",
   "execution_count": null,
   "metadata": {
    "colab": {
     "base_uri": "https://localhost:8080/",
     "height": 170
    },
    "id": "GL-iXIfuLnrt",
    "outputId": "550c3203-4c7b-426c-84bb-95d4d6c61122"
   },
   "outputs": [],
   "source": [
    "test_cm = pd.DataFrame(sklearn.metrics.confusion_matrix(test_df[\"class\"], test_y_pred_df[\"class\"], labels=classes), columns=classes, index=classes, )\n",
    "test_cm"
   ]
  },
  {
   "cell_type": "code",
   "execution_count": null,
   "metadata": {
    "colab": {
     "base_uri": "https://localhost:8080/"
    },
    "id": "wUeFj8noMJ-l",
    "outputId": "29740b28-1620-4aff-b214-30ddcffbe950"
   },
   "outputs": [],
   "source": [
    "test_acc = sklearn.metrics.accuracy_score(test_df[\"class\"], test_y_pred_df[\"class\"])\n",
    "test_acc"
   ]
  },
  {
   "cell_type": "code",
   "execution_count": null,
   "metadata": {
    "id": "V7deajXJMlY6"
   },
   "outputs": [],
   "source": [
    "test_df = test_df.reset_index()"
   ]
  },
  {
   "cell_type": "code",
   "execution_count": null,
   "metadata": {
    "id": "QfvSFJYEM66t"
   },
   "outputs": [],
   "source": [
    "test_df[\"pred_class\"] = test_y_pred_df[\"class\"]"
   ]
  },
  {
   "cell_type": "code",
   "execution_count": null,
   "metadata": {
    "colab": {
     "base_uri": "https://localhost:8080/",
     "height": 293
    },
    "id": "KIwQfJ98Mddo",
    "outputId": "cf79b720-5dc3-459b-9626-b7ce5aa19fa1"
   },
   "outputs": [],
   "source": [
    "errors = test_df[test_df[\"class\"] != test_df[\"pred_class\"]]\n",
    "errors"
   ]
  },
  {
   "cell_type": "code",
   "execution_count": null,
   "metadata": {
    "colab": {
     "base_uri": "https://localhost:8080/",
     "height": 286
    },
    "id": "keb0XBvENBaJ",
    "outputId": "0d2b86a1-258a-406e-c139-b398d13df054"
   },
   "outputs": [],
   "source": [
    "im = image.imread(os.path.join(im_path, errors.loc[8][\"fname\"]))\n",
    "plt.imshow(im)"
   ]
  }
 ],
 "metadata": {
  "accelerator": "GPU",
  "colab": {
   "collapsed_sections": [],
   "name": "finetune.ipynb",
   "provenance": []
  },
  "kernelspec": {
   "display_name": "Python 3.8.5 64-bit ('venv': venv)",
   "name": "python_defaultSpec_1609333253733"
  },
  "language_info": {
   "codemirror_mode": {
    "name": "ipython",
    "version": 3
   },
   "file_extension": ".py",
   "mimetype": "text/x-python",
   "name": "python",
   "nbconvert_exporter": "python",
   "pygments_lexer": "ipython3",
   "version": "3.8.5-final"
  }
 },
 "nbformat": 4,
 "nbformat_minor": 0
}
