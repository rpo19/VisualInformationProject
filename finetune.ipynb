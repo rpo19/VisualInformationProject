{
 "metadata": {
  "language_info": {
   "codemirror_mode": {
    "name": "ipython",
    "version": 3
   },
   "file_extension": ".py",
   "mimetype": "text/x-python",
   "name": "python",
   "nbconvert_exporter": "python",
   "pygments_lexer": "ipython3",
   "version": "3.8.5-final"
  },
  "orig_nbformat": 2,
  "kernelspec": {
   "name": "python_defaultSpec_1609333253733",
   "display_name": "Python 3.8.5 64-bit ('venv': venv)"
  }
 },
 "nbformat": 4,
 "nbformat_minor": 2,
 "cells": [
  {
   "cell_type": "code",
   "execution_count": 3,
   "metadata": {},
   "outputs": [],
   "source": [
    "import pandas as pd\n",
    "import matplotlib\n",
    "import matplotlib.pyplot as plt\n",
    "import matplotlib.image as image\n",
    "import os\n",
    "import shutil\n",
    "import random\n",
    "import re\n",
    "import tensorflow as tf\n",
    "import numpy as np\n",
    "import json\n",
    "import time\n",
    "import sklearn.model_selection"
   ]
  },
  {
   "cell_type": "code",
   "execution_count": 4,
   "metadata": {},
   "outputs": [],
   "source": [
    "classes = ['shoe','trousers','jacket','sweatshirt']"
   ]
  },
  {
   "cell_type": "code",
   "execution_count": 5,
   "metadata": {},
   "outputs": [],
   "source": [
    "def getModel(num_classes):\n",
    "    basemodel = efb3 = tf.keras.applications.EfficientNetB3(\n",
    "        weights=\"imagenet\",\n",
    "        include_top=False\n",
    "    )\n",
    "    basemodel.trainable = False\n",
    "    model = tf.keras.models.Sequential()\n",
    "    model.add(basemodel)\n",
    "    model.add(tf.keras.layers.GlobalAveragePooling2D())\n",
    "    model.add(tf.keras.layers.Dropout(0.2))\n",
    "    model.add(tf.keras.layers.Dense(num_classes, activation='softmax'))\n",
    "\n",
    "    return model"
   ]
  },
  {
   "cell_type": "code",
   "execution_count": 6,
   "metadata": {
    "tags": []
   },
   "outputs": [
    {
     "output_type": "stream",
     "name": "stdout",
     "text": "Model: \"sequential\"\n_________________________________________________________________\nLayer (type)                 Output Shape              Param #   \n=================================================================\nefficientnetb3 (Functional)  (None, None, None, 1536)  10783535  \n_________________________________________________________________\nglobal_average_pooling2d (Gl (None, 1536)              0         \n_________________________________________________________________\ndropout (Dropout)            (None, 1536)              0         \n_________________________________________________________________\ndense (Dense)                (None, 4)                 6148      \n=================================================================\nTotal params: 10,789,683\nTrainable params: 6,148\nNon-trainable params: 10,783,535\n_________________________________________________________________\n"
    }
   ],
   "source": [
    "mymodel = getModel(len(classes))\n",
    "mymodel.summary()"
   ]
  },
  {
   "cell_type": "code",
   "execution_count": 33,
   "metadata": {},
   "outputs": [],
   "source": [
    "mymodel.compile(optimizer='adam', loss='categorical_crossentropy', metrics=['accuracy'])"
   ]
  },
  {
   "cell_type": "code",
   "execution_count": 8,
   "metadata": {},
   "outputs": [
    {
     "output_type": "execute_result",
     "data": {
      "text/plain": "      fname   class\n0  1085.jpg  jacket\n1  1086.jpg  jacket\n2  1087.jpg  jacket\n3  1382.jpg  jacket\n4  1383.jpg  jacket",
      "text/html": "<div>\n<style scoped>\n    .dataframe tbody tr th:only-of-type {\n        vertical-align: middle;\n    }\n\n    .dataframe tbody tr th {\n        vertical-align: top;\n    }\n\n    .dataframe thead th {\n        text-align: right;\n    }\n</style>\n<table border=\"1\" class=\"dataframe\">\n  <thead>\n    <tr style=\"text-align: right;\">\n      <th></th>\n      <th>fname</th>\n      <th>class</th>\n    </tr>\n  </thead>\n  <tbody>\n    <tr>\n      <th>0</th>\n      <td>1085.jpg</td>\n      <td>jacket</td>\n    </tr>\n    <tr>\n      <th>1</th>\n      <td>1086.jpg</td>\n      <td>jacket</td>\n    </tr>\n    <tr>\n      <th>2</th>\n      <td>1087.jpg</td>\n      <td>jacket</td>\n    </tr>\n    <tr>\n      <th>3</th>\n      <td>1382.jpg</td>\n      <td>jacket</td>\n    </tr>\n    <tr>\n      <th>4</th>\n      <td>1383.jpg</td>\n      <td>jacket</td>\n    </tr>\n  </tbody>\n</table>\n</div>"
     },
     "metadata": {},
     "execution_count": 8
    }
   ],
   "source": [
    "jackets_filtered = pd.read_csv('jackets_filtered.csv', index_col=0)\n",
    "jackets_filtered[\"class\"] = \"jacket\"\n",
    "jackets_filtered.head()"
   ]
  },
  {
   "cell_type": "code",
   "execution_count": 9,
   "metadata": {},
   "outputs": [
    {
     "output_type": "execute_result",
     "data": {
      "text/plain": "       fname class\n0  15319.jpg  shoe\n1  15324.jpg  shoe\n2  15347.jpg  shoe\n3  15356.jpg  shoe\n4  15370.jpg  shoe",
      "text/html": "<div>\n<style scoped>\n    .dataframe tbody tr th:only-of-type {\n        vertical-align: middle;\n    }\n\n    .dataframe tbody tr th {\n        vertical-align: top;\n    }\n\n    .dataframe thead th {\n        text-align: right;\n    }\n</style>\n<table border=\"1\" class=\"dataframe\">\n  <thead>\n    <tr style=\"text-align: right;\">\n      <th></th>\n      <th>fname</th>\n      <th>class</th>\n    </tr>\n  </thead>\n  <tbody>\n    <tr>\n      <th>0</th>\n      <td>15319.jpg</td>\n      <td>shoe</td>\n    </tr>\n    <tr>\n      <th>1</th>\n      <td>15324.jpg</td>\n      <td>shoe</td>\n    </tr>\n    <tr>\n      <th>2</th>\n      <td>15347.jpg</td>\n      <td>shoe</td>\n    </tr>\n    <tr>\n      <th>3</th>\n      <td>15356.jpg</td>\n      <td>shoe</td>\n    </tr>\n    <tr>\n      <th>4</th>\n      <td>15370.jpg</td>\n      <td>shoe</td>\n    </tr>\n  </tbody>\n</table>\n</div>"
     },
     "metadata": {},
     "execution_count": 9
    }
   ],
   "source": [
    "scarpe_filtered = pd.read_csv('scarpe_filtered.csv', index_col=0)\n",
    "scarpe_filtered[\"class\"] = \"shoe\"\n",
    "scarpe_filtered.head()"
   ]
  },
  {
   "cell_type": "code",
   "execution_count": 10,
   "metadata": {},
   "outputs": [
    {
     "output_type": "execute_result",
     "data": {
      "text/plain": "      fname       class\n0  5607.jpg  sweatshirt\n1  6133.jpg  sweatshirt\n2  6542.jpg  sweatshirt\n3  6127.jpg  sweatshirt\n4   375.jpg  sweatshirt",
      "text/html": "<div>\n<style scoped>\n    .dataframe tbody tr th:only-of-type {\n        vertical-align: middle;\n    }\n\n    .dataframe tbody tr th {\n        vertical-align: top;\n    }\n\n    .dataframe thead th {\n        text-align: right;\n    }\n</style>\n<table border=\"1\" class=\"dataframe\">\n  <thead>\n    <tr style=\"text-align: right;\">\n      <th></th>\n      <th>fname</th>\n      <th>class</th>\n    </tr>\n  </thead>\n  <tbody>\n    <tr>\n      <th>0</th>\n      <td>5607.jpg</td>\n      <td>sweatshirt</td>\n    </tr>\n    <tr>\n      <th>1</th>\n      <td>6133.jpg</td>\n      <td>sweatshirt</td>\n    </tr>\n    <tr>\n      <th>2</th>\n      <td>6542.jpg</td>\n      <td>sweatshirt</td>\n    </tr>\n    <tr>\n      <th>3</th>\n      <td>6127.jpg</td>\n      <td>sweatshirt</td>\n    </tr>\n    <tr>\n      <th>4</th>\n      <td>375.jpg</td>\n      <td>sweatshirt</td>\n    </tr>\n  </tbody>\n</table>\n</div>"
     },
     "metadata": {},
     "execution_count": 10
    }
   ],
   "source": [
    "sweatshirt_filtered = pd.DataFrame(os.listdir('../sweatshirt'), columns=[\"fname\"])\n",
    "sweatshirt_filtered[\"class\"] = \"sweatshirt\"\n",
    "sweatshirt_filtered.head()"
   ]
  },
  {
   "cell_type": "code",
   "execution_count": 11,
   "metadata": {},
   "outputs": [
    {
     "output_type": "execute_result",
     "data": {
      "text/plain": "      fname     class\n0  7911.jpg  trousers\n1  6888.jpg  trousers\n2  7345.jpg  trousers\n3  7448.jpg  trousers\n4  9012.jpg  trousers",
      "text/html": "<div>\n<style scoped>\n    .dataframe tbody tr th:only-of-type {\n        vertical-align: middle;\n    }\n\n    .dataframe tbody tr th {\n        vertical-align: top;\n    }\n\n    .dataframe thead th {\n        text-align: right;\n    }\n</style>\n<table border=\"1\" class=\"dataframe\">\n  <thead>\n    <tr style=\"text-align: right;\">\n      <th></th>\n      <th>fname</th>\n      <th>class</th>\n    </tr>\n  </thead>\n  <tbody>\n    <tr>\n      <th>0</th>\n      <td>7911.jpg</td>\n      <td>trousers</td>\n    </tr>\n    <tr>\n      <th>1</th>\n      <td>6888.jpg</td>\n      <td>trousers</td>\n    </tr>\n    <tr>\n      <th>2</th>\n      <td>7345.jpg</td>\n      <td>trousers</td>\n    </tr>\n    <tr>\n      <th>3</th>\n      <td>7448.jpg</td>\n      <td>trousers</td>\n    </tr>\n    <tr>\n      <th>4</th>\n      <td>9012.jpg</td>\n      <td>trousers</td>\n    </tr>\n  </tbody>\n</table>\n</div>"
     },
     "metadata": {},
     "execution_count": 11
    }
   ],
   "source": [
    "pantaloni_filtered = pd.DataFrame(os.listdir('../pantaloni'), columns=[\"fname\"])\n",
    "pantaloni_filtered[\"class\"] = \"trousers\"\n",
    "pantaloni_filtered.head()"
   ]
  },
  {
   "cell_type": "code",
   "execution_count": 12,
   "metadata": {},
   "outputs": [],
   "source": [
    "filtered_df = pd.concat([scarpe_filtered, pantaloni_filtered, sweatshirt_filtered, jackets_filtered])"
   ]
  },
  {
   "cell_type": "code",
   "execution_count": 13,
   "metadata": {},
   "outputs": [],
   "source": [
    "if not os.path.isfile('filtered_df.csv'):\n",
    "    filtered_df.to_csv('filtered_df.csv')"
   ]
  },
  {
   "cell_type": "code",
   "execution_count": 14,
   "metadata": {},
   "outputs": [
    {
     "output_type": "execute_result",
     "data": {
      "text/plain": "['shoe', 'trousers', 'jacket', 'sweatshirt']"
     },
     "metadata": {},
     "execution_count": 14
    }
   ],
   "source": [
    "classes"
   ]
  },
  {
   "cell_type": "code",
   "execution_count": 18,
   "metadata": {},
   "outputs": [],
   "source": [
    "for current_class in classes:\n",
    "    filtered_df[current_class] = (filtered_df[\"class\"] == current_class).astype('int32')"
   ]
  },
  {
   "cell_type": "code",
   "execution_count": 23,
   "metadata": {},
   "outputs": [
    {
     "output_type": "execute_result",
     "data": {
      "text/plain": "       fname class  shoe  trousers  jacket  sweatshirt\n0  15319.jpg  shoe     1         0       0           0\n1  15324.jpg  shoe     1         0       0           0\n2  15347.jpg  shoe     1         0       0           0\n3  15356.jpg  shoe     1         0       0           0\n4  15370.jpg  shoe     1         0       0           0",
      "text/html": "<div>\n<style scoped>\n    .dataframe tbody tr th:only-of-type {\n        vertical-align: middle;\n    }\n\n    .dataframe tbody tr th {\n        vertical-align: top;\n    }\n\n    .dataframe thead th {\n        text-align: right;\n    }\n</style>\n<table border=\"1\" class=\"dataframe\">\n  <thead>\n    <tr style=\"text-align: right;\">\n      <th></th>\n      <th>fname</th>\n      <th>class</th>\n      <th>shoe</th>\n      <th>trousers</th>\n      <th>jacket</th>\n      <th>sweatshirt</th>\n    </tr>\n  </thead>\n  <tbody>\n    <tr>\n      <th>0</th>\n      <td>15319.jpg</td>\n      <td>shoe</td>\n      <td>1</td>\n      <td>0</td>\n      <td>0</td>\n      <td>0</td>\n    </tr>\n    <tr>\n      <th>1</th>\n      <td>15324.jpg</td>\n      <td>shoe</td>\n      <td>1</td>\n      <td>0</td>\n      <td>0</td>\n      <td>0</td>\n    </tr>\n    <tr>\n      <th>2</th>\n      <td>15347.jpg</td>\n      <td>shoe</td>\n      <td>1</td>\n      <td>0</td>\n      <td>0</td>\n      <td>0</td>\n    </tr>\n    <tr>\n      <th>3</th>\n      <td>15356.jpg</td>\n      <td>shoe</td>\n      <td>1</td>\n      <td>0</td>\n      <td>0</td>\n      <td>0</td>\n    </tr>\n    <tr>\n      <th>4</th>\n      <td>15370.jpg</td>\n      <td>shoe</td>\n      <td>1</td>\n      <td>0</td>\n      <td>0</td>\n      <td>0</td>\n    </tr>\n  </tbody>\n</table>\n</div>"
     },
     "metadata": {},
     "execution_count": 23
    }
   ],
   "source": [
    "filtered_df.head()"
   ]
  },
  {
   "cell_type": "code",
   "execution_count": 24,
   "metadata": {},
   "outputs": [],
   "source": [
    "train_df, test_df = sklearn.model_selection.train_test_split(filtered_df, test_size=0.2, random_state=1000)"
   ]
  },
  {
   "cell_type": "code",
   "execution_count": 25,
   "metadata": {},
   "outputs": [],
   "source": [
    "train_df, validation_df = sklearn.model_selection.train_test_split(train_df, test_size=0.15, random_state=1000)"
   ]
  },
  {
   "cell_type": "code",
   "execution_count": 26,
   "metadata": {},
   "outputs": [
    {
     "output_type": "execute_result",
     "data": {
      "text/plain": "         fname       class  shoe  trousers  jacket  sweatshirt\n30   15882.jpg        shoe     1         0       0           0\n94    7381.jpg    trousers     0         1       0           0\n104   5241.jpg  sweatshirt     0         0       0           1\n78    8202.jpg    trousers     0         1       0           0\n22    1848.jpg      jacket     0         0       1           0\n..         ...         ...   ...       ...     ...         ...\n126  17402.jpg        shoe     1         0       0           0\n97    7885.jpg    trousers     0         1       0           0\n81    3861.jpg      jacket     0         0       1           0\n66   16490.jpg        shoe     1         0       0           0\n12   15506.jpg        shoe     1         0       0           0\n\n[411 rows x 6 columns]",
      "text/html": "<div>\n<style scoped>\n    .dataframe tbody tr th:only-of-type {\n        vertical-align: middle;\n    }\n\n    .dataframe tbody tr th {\n        vertical-align: top;\n    }\n\n    .dataframe thead th {\n        text-align: right;\n    }\n</style>\n<table border=\"1\" class=\"dataframe\">\n  <thead>\n    <tr style=\"text-align: right;\">\n      <th></th>\n      <th>fname</th>\n      <th>class</th>\n      <th>shoe</th>\n      <th>trousers</th>\n      <th>jacket</th>\n      <th>sweatshirt</th>\n    </tr>\n  </thead>\n  <tbody>\n    <tr>\n      <th>30</th>\n      <td>15882.jpg</td>\n      <td>shoe</td>\n      <td>1</td>\n      <td>0</td>\n      <td>0</td>\n      <td>0</td>\n    </tr>\n    <tr>\n      <th>94</th>\n      <td>7381.jpg</td>\n      <td>trousers</td>\n      <td>0</td>\n      <td>1</td>\n      <td>0</td>\n      <td>0</td>\n    </tr>\n    <tr>\n      <th>104</th>\n      <td>5241.jpg</td>\n      <td>sweatshirt</td>\n      <td>0</td>\n      <td>0</td>\n      <td>0</td>\n      <td>1</td>\n    </tr>\n    <tr>\n      <th>78</th>\n      <td>8202.jpg</td>\n      <td>trousers</td>\n      <td>0</td>\n      <td>1</td>\n      <td>0</td>\n      <td>0</td>\n    </tr>\n    <tr>\n      <th>22</th>\n      <td>1848.jpg</td>\n      <td>jacket</td>\n      <td>0</td>\n      <td>0</td>\n      <td>1</td>\n      <td>0</td>\n    </tr>\n    <tr>\n      <th>...</th>\n      <td>...</td>\n      <td>...</td>\n      <td>...</td>\n      <td>...</td>\n      <td>...</td>\n      <td>...</td>\n    </tr>\n    <tr>\n      <th>126</th>\n      <td>17402.jpg</td>\n      <td>shoe</td>\n      <td>1</td>\n      <td>0</td>\n      <td>0</td>\n      <td>0</td>\n    </tr>\n    <tr>\n      <th>97</th>\n      <td>7885.jpg</td>\n      <td>trousers</td>\n      <td>0</td>\n      <td>1</td>\n      <td>0</td>\n      <td>0</td>\n    </tr>\n    <tr>\n      <th>81</th>\n      <td>3861.jpg</td>\n      <td>jacket</td>\n      <td>0</td>\n      <td>0</td>\n      <td>1</td>\n      <td>0</td>\n    </tr>\n    <tr>\n      <th>66</th>\n      <td>16490.jpg</td>\n      <td>shoe</td>\n      <td>1</td>\n      <td>0</td>\n      <td>0</td>\n      <td>0</td>\n    </tr>\n    <tr>\n      <th>12</th>\n      <td>15506.jpg</td>\n      <td>shoe</td>\n      <td>1</td>\n      <td>0</td>\n      <td>0</td>\n      <td>0</td>\n    </tr>\n  </tbody>\n</table>\n<p>411 rows × 6 columns</p>\n</div>"
     },
     "metadata": {},
     "execution_count": 26
    }
   ],
   "source": [
    "train_df"
   ]
  },
  {
   "cell_type": "code",
   "execution_count": 27,
   "metadata": {},
   "outputs": [],
   "source": [
    "def loadImages(pathlist, basedir='.'):\n",
    "    size = len(pathlist)\n",
    "\n",
    "    batcharr = np.zeros(shape=(size, 300, 300, 3))\n",
    "\n",
    "    for i in range(0,size):\n",
    "\n",
    "        img_path = os.path.join(basedir, pathlist[i])\n",
    "\n",
    "        im = tf.keras.preprocessing.image.load_img(\n",
    "            img_path,\n",
    "            target_size=(300, 300, 3)\n",
    "        )\n",
    "        imarr = tf.keras.preprocessing.image.img_to_array(im)\n",
    "        imarr = tf.keras.applications.efficientnet.preprocess_input(imarr)\n",
    "\n",
    "        batcharr[i] = imarr\n",
    "\n",
    "    return batcharr"
   ]
  },
  {
   "cell_type": "code",
   "execution_count": 28,
   "metadata": {},
   "outputs": [
    {
     "output_type": "execute_result",
     "data": {
      "text/plain": "'15882.jpg'"
     },
     "metadata": {},
     "execution_count": 28
    }
   ],
   "source": [
    "train_df[\"fname\"].values[0]"
   ]
  },
  {
   "cell_type": "code",
   "execution_count": 29,
   "metadata": {},
   "outputs": [],
   "source": [
    "imgs_loaded = loadImages(train_df[\"fname\"].values, basedir='../train')"
   ]
  },
  {
   "cell_type": "code",
   "execution_count": 35,
   "metadata": {},
   "outputs": [],
   "source": [
    "imgs_loaded_validation = loadImages(validation_df[\"fname\"].values, basedir='../train')"
   ]
  },
  {
   "cell_type": "code",
   "execution_count": 36,
   "metadata": {},
   "outputs": [],
   "source": [
    "validation_y = validation_df[[\"shoe\", \"trousers\", \"jacket\", \"sweatshirt\"]].values"
   ]
  },
  {
   "cell_type": "code",
   "execution_count": 30,
   "metadata": {},
   "outputs": [],
   "source": [
    "train_y = train_df[[\"shoe\", \"trousers\", \"jacket\", \"sweatshirt\"]].values"
   ]
  },
  {
   "cell_type": "code",
   "execution_count": 37,
   "metadata": {
    "tags": []
   },
   "outputs": [
    {
     "output_type": "stream",
     "name": "stdout",
     "text": "13/13 [==============================] - 151s 12s/step - loss: 0.3155 - accuracy: 0.9124 - val_loss: 0.2648 - val_accuracy: 0.9589\n"
    }
   ],
   "source": [
    "hist = mymodel.fit(imgs_loaded, train_y, epochs=5, verbose=True, batch_size=32,\n",
    "                    validation_data=(imgs_loaded_validation, validation_y))"
   ]
  },
  {
   "cell_type": "code",
   "execution_count": null,
   "metadata": {},
   "outputs": [],
   "source": []
  }
 ]
}